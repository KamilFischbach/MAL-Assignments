{
 "cells": [
  {
   "cell_type": "markdown",
   "metadata": {},
   "source": [
    "## 7. Group Assignment & Presentation"
   ]
  },
  {
   "cell_type": "markdown",
   "metadata": {},
   "source": [
    "\n",
    "\n",
    "__You should be able to start up on this exercise after Lecture 1.__\n",
    "\n",
    "*This exercise must be a group effort. That means everyone must participate in the assignment.*\n",
    "\n",
    "In this assignment you will solve a data science problem end-to-end, pretending to be recently hired data scientists in a company. To help you get started, we've prepared a checklist to guide you through the project. Here are the main steps that you will go through:\n",
    "\n",
    "1. Frame the problem and look at the big picture - Laura\n",
    "2. Get the data - done\n",
    "3. Explore and visualise the data to gain insights - Laura\n",
    "4. Prepare the data to better expose the underlying data patterns to machine learning algorithms - Preprocessing - Kamil, make/cut different datasets\n",
    "5. Explore many different models and short-list the best ones - Maks\n",
    "6. Fine-tune your models - Choose like 2, max 3 models and fine tune them - Maks\n",
    "7. Present your solution (video presentation) \n",
    "\n",
    "In each step we list a set of questions that one should have in mind when undertaking a data science project. The list is not meant to be exhaustive, but does contain a selection of the most important questions to ask. We will be available to provide assistance with each of the steps, and will allocate some part of each lesson towards working on the projects.\n",
    "\n",
    "Your group must submit a _**single**_ Jupyter notebook, structured in terms of the first 6 sections listed above (the seventh will be a video uploaded to some streaming platform, e.g. YouTube, Vimeo, etc.)."
   ]
  },
  {
   "cell_type": "markdown",
   "metadata": {},
   "source": [
    "### 1. Analysis: Frame the problem and look at the big picture\n",
    "1. Find a problem/task that everyone in the group finds interesting\n",
    "2. Define the objective in business terms\n",
    "3. How should you frame the problem (supervised/unsupervised etc.)?\n",
    "4. How should performance be measured?"
   ]
  },
  {
   "cell_type": "markdown",
   "metadata": {},
   "source": [
    "### 2. Get the data\n",
    "1. Find and document where you can get the data from\n",
    "2. Get the data\n",
    "3. Check the size and type of data (time series, geographical etc)"
   ]
  },
  {
   "cell_type": "markdown",
   "metadata": {},
   "source": [
    "### 3. Explore the data\n",
    "1. Create a copy of the data for explorations (sampling it down to a manageable size if necessary)\n",
    "2. Create a Jupyter notebook to keep a record of your data exploration\n",
    "3. Study each feature and its characteristics:\n",
    "    * Name\n",
    "    * Type (categorical, int/float, bounded/unbounded, text, structured, etc)\n",
    "    * Percentage of missing values\n",
    "    * Check for outliers, rounding errors etc\n",
    "4. For supervised learning tasks, identify the target(s)\n",
    "5. Visualise the data\n",
    "6. Study the correlations between features\n",
    "7. Identify the promising transformations you may want to apply (e.g. convert skewed targets to normal via a log transformation)\n",
    "8. Document what you have learned"
   ]
  },
  {
   "cell_type": "markdown",
   "metadata": {},
   "source": [
    "### 4. Prepare the data\n",
    "Notes:\n",
    "* Work on copies of the data (keep the original dataset intact).\n",
    "* Write functions for all data transformations you apply, for three reasons:\n",
    "    * So you can easily prepare the data the next time you run your code\n",
    "    * So you can apply these transformations in future projects\n",
    "    * To clean and prepare the test set\n",
    "    \n",
    "    \n",
    "1. Data cleaning:\n",
    "    * Fix or remove outliers (or keep them)\n",
    "    * Fill in missing values (e.g. with zero, mean, median, regression ...) or drop their rows (or columns)\n",
    "2. Feature selection (optional):\n",
    "    * Drop the features that provide no useful information for the task (e.g. a customer ID is usually useless for modelling).\n",
    "3. Feature engineering, where appropriate:\n",
    "    * Discretize continuous features\n",
    "    * Use one-hot encoding if/when relevant\n",
    "    * Add promising transformations of features (e.g. $\\log(x)$, $\\sqrt{x}$, $x^2$, etc)\n",
    "    * Aggregate features into promising new features\n",
    "4. Feature scaling: standardise or normalise features"
   ]
  },
  {
   "cell_type": "markdown",
   "metadata": {},
   "source": [
    "### 5. Short-list promising models\n",
    "We expect you to do some additional research and train at **least one model per team member**.\n",
    "\n",
    "1. Train mainly quick and dirty models from different categories (e.g. linear, SVM, Random Forests etc) using default parameters\n",
    "2. Measure and compare their performance\n",
    "3. Analyse the most significant variables for each algorithm\n",
    "4. Analyse the types of errors the models make\n",
    "5. Have a quick round of feature selection and engineering if necessary\n",
    "6. Have one or two more quick iterations of the five previous steps\n",
    "7. Short-list the top three to five most promising models, preferring models that make different types of errors"
   ]
  },
  {
   "cell_type": "markdown",
   "metadata": {},
   "source": [
    "### 6. Fine-tune the system\n",
    "1. Fine-tune the hyperparameters\n",
    "2. Once you are confident about your final model, measure its performance on the test set to estimate the generalisation error"
   ]
  },
  {
   "cell_type": "markdown",
   "metadata": {},
   "source": [
    "### 7. Present your solution\n",
    "1. Document what you have done\n",
    "2. Create a nice 15 minute video presentation with slides\n",
    "    * Make sure you highlight the big picture first\n",
    "3. Explain why your solution achieves the business objective\n",
    "4. Don't forget to present interesting points you noticed along the way:\n",
    "    * Describe what worked and what did not\n",
    "    * List your assumptions and you model's limitations\n",
    "5. Ensure your key findings are communicated through nice visualisations or easy-to-remember statements (e.g. \"the median income is the number-one predictor of housing prices\")\n",
    "6. Upload the presentation to some online platform, e.g. YouTube or Vimeo, and supply a link to the video in the notebook."
   ]
  },
  {
   "cell_type": "markdown",
   "metadata": {},
   "source": [
    "Géron, A. 2017, *Hands-On Machine Learning with Scikit-Learn and Tensorflow*, Appendix B, O'Reilly Media, Inc., Sebastopol."
   ]
  },
  {
   "cell_type": "markdown",
   "metadata": {},
   "source": [
    "We are going to use supervised learning, classification. Based on basic info and personality traits we want to predict if a person is a user or a non-user. "
   ]
  },
  {
   "cell_type": "markdown",
   "metadata": {},
   "source": [
    "Explore the data and find out how many people are user for all of the drugs. If there is a drug with too little users or variance as data with low variance has no information/value. "
   ]
  },
  {
   "cell_type": "markdown",
   "metadata": {},
   "source": [
    "### Let the games begin!!!"
   ]
  },
  {
   "cell_type": "markdown",
   "metadata": {},
   "source": [
    "# 1. Analysis\n",
    "\n",
    "### ADD STUFF ABOUT HOW MUCH MORE HARMFUL UNIFORMED DRUG USE IS AS OPPOSED TO INFORMED !!!!!!!\n",
    "\n",
    "We found a paper describing Substance Use Disorders across ages 18-90, illustrating differences by gender and race:\n",
    "\n",
    "(Vasilenko S.A. et al. (2017), 'Age trends in rates of substance use disorders across ages 18–90: Differences by gender and race/ethnicity' - accessed at: https://www.ncbi.nlm.nih.gov/pmc/articles/PMC5757874/)\n",
    "\n",
    "According to this source, the age range with the most prevalent substance abuse is that of people in their twenties - for both genders, but more significantly for men. For this reason, we cross our fingers that our data set has a lot of data about young people, and that maybe there are a bit more Male respondents than Female, since these are at a higher risk of substance abuse.\n",
    "\n",
    "(...)\n",
    "\n",
    "But what if we could predict what drugs each person is likely to become a user of, *before* they become a user?\n",
    "\n",
    "If given a dataset including information about 1885 respondents' personality traits and frequency of consumption for 18 legal & illegal drugs, could we then find out which drugs a person is likely to become a user of, depending on their personality?\n",
    "\n",
    "If applied correctly, these predictions could be used to more accurately spread awareness material for drug use prevention, or, at least, safer drug use, in case it cannot be prevented - drastically (?) reducing its harm."
   ]
  },
  {
   "cell_type": "markdown",
   "metadata": {},
   "source": [
    "# 2. Data Acquisition & Overview\n",
    "\n",
    "We found the dataset \"Drug Consumptions (UCI)\" on Kaggle, provided by the user Khadija. They got it from a paper released in 2015 called \"The Five Factor Model of personality and evaulation of drug consumption risk\", by E. Fehrman, A. K. Muhammad, E. M. Mirkes, V. Egan and A. N. Gorban.\n",
    "\n",
    "Let's break it down:\n",
    "\n",
    "The dataset contains the following attributes:\n",
    "- Age\n",
    "- Gender (M or F)\n",
    "- Education (ranging from what to what?)\n",
    "- Country (which ones?)\n",
    "- Ethnicity\n",
    "- Score on different personality traits\n",
    "    - Big-Five Scores (OCEAN):\n",
    "        - Openness\n",
    "        - Conscientiousness\n",
    "        - Extraversion\n",
    "        - Agreeableness\n",
    "        - Neuroticism\n",
    "    - Impulsiveness, measured by BIS-11\n",
    "    - Sensation-Seeking, measured by ImpSS\n",
    "\n",
    "It has, then, information about each individual's consumption of the following substances:\n",
    "- Alcohol\n",
    "- Amphetamines\n",
    "- Amyl / Nitrite\n",
    "- Benzodiazepine\n",
    "- Caffeine\n",
    "- Cannabis / Marijuana\n",
    "- Chocolate\n",
    "- Cocaine\n",
    "- Crack Cocaine\n",
    "- Ecstasy\n",
    "- Heroin\n",
    "- Ketamine\n",
    "- Legal Highs\n",
    "- LSD\n",
    "- Methadone\n",
    "- Magic Mushrooms\n",
    "- Nicotine\n",
    "- Semeron\n",
    "    - Fictitious drug, for control\n",
    "- Volatile Substance Abuse / Inhalants\n",
    "    - (for example: spray deodorantes, glue, lighter refills)\n",
    "\n",
    "The rating for each individual's use of each substance can be one of the following:\n",
    "- CL0: Never Used\n",
    "- CL1: Used over a Decade Ago\n",
    "- CL2: Used in the Last Decade\n",
    "- CL3: Used in the Last Year\n",
    "- CL4: Used in the Last Month\n",
    "- CL5: Used in the Last Week\n",
    "- CL6: Used in the Last Day"
   ]
  },
  {
   "cell_type": "markdown",
   "metadata": {},
   "source": [
    "## Personality Traits in Data Set\n",
    "\n",
    "Now, a few more words on each of the aforementioned personality traits, just so we get a good picture of what we're looking at, including what to expect from each trait when a person's score is low or high in it.\n",
    "\n",
    "Knowing each of these traits well might make us better at inferring these values for someone we want to make predictions for, as well as understanding our data better.\n",
    "\n",
    "### Openness To Experience:\n",
    "This trait is characterized by active imagination, aesthetic sensitivity, attentiveness to inner feelings, preference for variety, and intellectual curiosity.\n",
    "Individuals with high openness seek novelty, creativity and intellectual pursuits, whereas people who score low on this trait thrive in procedure, compliance and routine.\n",
    "\n",
    "### Conscientiousness:\n",
    "Conscientiousness relates to being dutiful, responsible and careful. Someone with a high score in this trait is likely to be very focused, thorough and self-disciplined - but, if extreme, potentially a workaholic. On flip-side, someone with a lower score could be described as laid-back, easy-going and more fun to be around. If extreme, however, a person with a very low conscientiousness may come off as careless or disorganized.\n",
    "\n",
    "### Extraversion:\n",
    "Extraversion is framed as a function of stimulation - someone who is more sensitive to outside stimuli would score lower on extraversion, tending to prefer smaller crowds, quieter environments, and more focused, cognitively-demanding activities. On the flip side, someone with a high score in extraversion is less sensitive to external stimuli and, as a result, seeks more of it. They enjoy large gatherings, and come off as more energetic and lively. Extraverted people have an easier time asserting themselves and do not mind being the center of attention.\n",
    "\n",
    "### Agreeableness:\n",
    "Features of agreeableness include compassion, trust, honesty and politeness. Agreeable people are often popular, due to their inherent need for social harmony - they are more likely to \"adapt to others\", and to be people-pleasers. They avoid conflict and compromise in the favour of others. They are polite, affectionate and trusting of others. Conversely, people with a low Agreeableness score do not mind conflict, are better at standing their ground and do not care so much about what others think of them. For this reason, people who feel less need to be agreeable often make for excellent scientists, critics or soldiers.\n",
    "\n",
    "### Neuroticism:\n",
    "Neuroticism refers to an individual's susceptibility to stress, and a persistent tendency to be in a negative mood state. On one hand, someone with a high neurotic state experiences negative emotions such as anxiety, sadness, frustration, fear and anger more frequently than most people. This may or may not be associated with mental health concerns. On the other hand, someone with a low neurotic state is more even tempered - they go through negative emotions less often and less intensely than most people - although virtually everyone experiences them every now and then.\n",
    "\n",
    "### Impulsiveness:\n",
    "Impulsiveness is caracterized by a predisposition to rapid and unplanned decisions without adequate regard for the possible negative consequences. Impulsive individuals live under the \"carpe diem\" mindset, prioritizing spontaneity, whereas people with a lower impulsive score have a more strategic, planned, predictable and consistent approach to life, so they are far less likely to make rash decisions or act without thinking. Less impulsive individuals keep the big picture in mind and are often more successful in social relationships and long-term goals due to their greater reliability and thoughtfulness.\n",
    "\n",
    "### Sensation Seeking:\n",
    "The Sensation Seeking trait is characterized by the need for varied, novel, complex and intense situations and experiences. An individual with a strong SS trait may feel bored if they go a long period of time without nothing thrilling to do. These people are far more likely to do things that others might consider \"crazy\", and this can range all the way from climbing mountains to exploring recreational drugs, depending on the individual. In contrast, people with a low score on SS find higher leves of arousal unpleasant, and steer away from intense experiences, often enjoying routine and predictableness."
   ]
  },
  {
   "cell_type": "markdown",
   "metadata": {},
   "source": [
    "Now that we know, on a high level, what is in our dataset, it's a good idea to take a closer look at each feature so we are even more familiar with our data."
   ]
  },
  {
   "cell_type": "markdown",
   "metadata": {},
   "source": [
    "# 3. Data Exploration"
   ]
  },
  {
   "cell_type": "markdown",
   "metadata": {},
   "source": [
    "Why don't we import the data and print out the first few columns?"
   ]
  },
  {
   "cell_type": "code",
   "execution_count": 54,
   "metadata": {},
   "outputs": [
    {
     "data": {
      "text/html": [
       "<div>\n",
       "<style scoped>\n",
       "    .dataframe tbody tr th:only-of-type {\n",
       "        vertical-align: middle;\n",
       "    }\n",
       "\n",
       "    .dataframe tbody tr th {\n",
       "        vertical-align: top;\n",
       "    }\n",
       "\n",
       "    .dataframe thead th {\n",
       "        text-align: right;\n",
       "    }\n",
       "</style>\n",
       "<table border=\"1\" class=\"dataframe\">\n",
       "  <thead>\n",
       "    <tr style=\"text-align: right;\">\n",
       "      <th></th>\n",
       "      <th>ID</th>\n",
       "      <th>Age</th>\n",
       "      <th>Gender</th>\n",
       "      <th>Education</th>\n",
       "      <th>Country</th>\n",
       "      <th>Ethnicity</th>\n",
       "      <th>Nscore</th>\n",
       "      <th>Escore</th>\n",
       "      <th>Oscore</th>\n",
       "      <th>AScore</th>\n",
       "      <th>Cscore</th>\n",
       "      <th>Impulsive</th>\n",
       "      <th>SS</th>\n",
       "      <th>Alcohol</th>\n",
       "      <th>Amphet</th>\n",
       "      <th>Amyl</th>\n",
       "      <th>Benzos</th>\n",
       "      <th>Caff</th>\n",
       "      <th>Cannabis</th>\n",
       "      <th>Choc</th>\n",
       "      <th>Coke</th>\n",
       "      <th>Crack</th>\n",
       "      <th>Ecstasy</th>\n",
       "      <th>Heroin</th>\n",
       "      <th>Ketamine</th>\n",
       "      <th>Legalh</th>\n",
       "      <th>LSD</th>\n",
       "      <th>Meth</th>\n",
       "      <th>Mushrooms</th>\n",
       "      <th>Nicotine</th>\n",
       "      <th>Semer</th>\n",
       "      <th>VSA</th>\n",
       "    </tr>\n",
       "  </thead>\n",
       "  <tbody>\n",
       "    <tr>\n",
       "      <th>0</th>\n",
       "      <td>2</td>\n",
       "      <td>25-34</td>\n",
       "      <td>M</td>\n",
       "      <td>Doctorate degree</td>\n",
       "      <td>UK</td>\n",
       "      <td>White</td>\n",
       "      <td>-0.67825</td>\n",
       "      <td>1.93886</td>\n",
       "      <td>1.43533</td>\n",
       "      <td>0.76096</td>\n",
       "      <td>-0.14277</td>\n",
       "      <td>-0.71126</td>\n",
       "      <td>-0.21575</td>\n",
       "      <td>CL5</td>\n",
       "      <td>CL2</td>\n",
       "      <td>CL2</td>\n",
       "      <td>CL0</td>\n",
       "      <td>CL6</td>\n",
       "      <td>CL4</td>\n",
       "      <td>CL6</td>\n",
       "      <td>CL3</td>\n",
       "      <td>CL0</td>\n",
       "      <td>CL4</td>\n",
       "      <td>CL0</td>\n",
       "      <td>CL2</td>\n",
       "      <td>CL0</td>\n",
       "      <td>CL2</td>\n",
       "      <td>CL3</td>\n",
       "      <td>CL0</td>\n",
       "      <td>CL4</td>\n",
       "      <td>CL0</td>\n",
       "      <td>CL0</td>\n",
       "    </tr>\n",
       "    <tr>\n",
       "      <th>1</th>\n",
       "      <td>3</td>\n",
       "      <td>35-44</td>\n",
       "      <td>M</td>\n",
       "      <td>Professional certificate/ diploma</td>\n",
       "      <td>UK</td>\n",
       "      <td>White</td>\n",
       "      <td>-0.46725</td>\n",
       "      <td>0.80523</td>\n",
       "      <td>-0.84732</td>\n",
       "      <td>-1.62090</td>\n",
       "      <td>-1.01450</td>\n",
       "      <td>-1.37983</td>\n",
       "      <td>0.40148</td>\n",
       "      <td>CL6</td>\n",
       "      <td>CL0</td>\n",
       "      <td>CL0</td>\n",
       "      <td>CL0</td>\n",
       "      <td>CL6</td>\n",
       "      <td>CL3</td>\n",
       "      <td>CL4</td>\n",
       "      <td>CL0</td>\n",
       "      <td>CL0</td>\n",
       "      <td>CL0</td>\n",
       "      <td>CL0</td>\n",
       "      <td>CL0</td>\n",
       "      <td>CL0</td>\n",
       "      <td>CL0</td>\n",
       "      <td>CL0</td>\n",
       "      <td>CL1</td>\n",
       "      <td>CL0</td>\n",
       "      <td>CL0</td>\n",
       "      <td>CL0</td>\n",
       "    </tr>\n",
       "    <tr>\n",
       "      <th>2</th>\n",
       "      <td>4</td>\n",
       "      <td>18-24</td>\n",
       "      <td>F</td>\n",
       "      <td>Masters degree</td>\n",
       "      <td>UK</td>\n",
       "      <td>White</td>\n",
       "      <td>-0.14882</td>\n",
       "      <td>-0.80615</td>\n",
       "      <td>-0.01928</td>\n",
       "      <td>0.59042</td>\n",
       "      <td>0.58489</td>\n",
       "      <td>-1.37983</td>\n",
       "      <td>-1.18084</td>\n",
       "      <td>CL4</td>\n",
       "      <td>CL0</td>\n",
       "      <td>CL0</td>\n",
       "      <td>CL3</td>\n",
       "      <td>CL5</td>\n",
       "      <td>CL2</td>\n",
       "      <td>CL4</td>\n",
       "      <td>CL2</td>\n",
       "      <td>CL0</td>\n",
       "      <td>CL0</td>\n",
       "      <td>CL0</td>\n",
       "      <td>CL2</td>\n",
       "      <td>CL0</td>\n",
       "      <td>CL0</td>\n",
       "      <td>CL0</td>\n",
       "      <td>CL0</td>\n",
       "      <td>CL2</td>\n",
       "      <td>CL0</td>\n",
       "      <td>CL0</td>\n",
       "    </tr>\n",
       "    <tr>\n",
       "      <th>3</th>\n",
       "      <td>5</td>\n",
       "      <td>35-44</td>\n",
       "      <td>F</td>\n",
       "      <td>Doctorate degree</td>\n",
       "      <td>UK</td>\n",
       "      <td>White</td>\n",
       "      <td>0.73545</td>\n",
       "      <td>-1.63340</td>\n",
       "      <td>-0.45174</td>\n",
       "      <td>-0.30172</td>\n",
       "      <td>1.30612</td>\n",
       "      <td>-0.21712</td>\n",
       "      <td>-0.21575</td>\n",
       "      <td>CL4</td>\n",
       "      <td>CL1</td>\n",
       "      <td>CL1</td>\n",
       "      <td>CL0</td>\n",
       "      <td>CL6</td>\n",
       "      <td>CL3</td>\n",
       "      <td>CL6</td>\n",
       "      <td>CL0</td>\n",
       "      <td>CL0</td>\n",
       "      <td>CL1</td>\n",
       "      <td>CL0</td>\n",
       "      <td>CL0</td>\n",
       "      <td>CL1</td>\n",
       "      <td>CL0</td>\n",
       "      <td>CL0</td>\n",
       "      <td>CL2</td>\n",
       "      <td>CL2</td>\n",
       "      <td>CL0</td>\n",
       "      <td>CL0</td>\n",
       "    </tr>\n",
       "    <tr>\n",
       "      <th>4</th>\n",
       "      <td>6</td>\n",
       "      <td>65+</td>\n",
       "      <td>F</td>\n",
       "      <td>Left school at 18 years</td>\n",
       "      <td>Canada</td>\n",
       "      <td>White</td>\n",
       "      <td>-0.67825</td>\n",
       "      <td>-0.30033</td>\n",
       "      <td>-1.55521</td>\n",
       "      <td>2.03972</td>\n",
       "      <td>1.63088</td>\n",
       "      <td>-1.37983</td>\n",
       "      <td>-1.54858</td>\n",
       "      <td>CL2</td>\n",
       "      <td>CL0</td>\n",
       "      <td>CL0</td>\n",
       "      <td>CL0</td>\n",
       "      <td>CL6</td>\n",
       "      <td>CL0</td>\n",
       "      <td>CL4</td>\n",
       "      <td>CL0</td>\n",
       "      <td>CL0</td>\n",
       "      <td>CL0</td>\n",
       "      <td>CL0</td>\n",
       "      <td>CL0</td>\n",
       "      <td>CL0</td>\n",
       "      <td>CL0</td>\n",
       "      <td>CL0</td>\n",
       "      <td>CL0</td>\n",
       "      <td>CL6</td>\n",
       "      <td>CL0</td>\n",
       "      <td>CL0</td>\n",
       "    </tr>\n",
       "  </tbody>\n",
       "</table>\n",
       "</div>"
      ],
      "text/plain": [
       "   ID    Age Gender                          Education Country Ethnicity  \\\n",
       "0   2  25-34      M                   Doctorate degree      UK     White   \n",
       "1   3  35-44      M  Professional certificate/ diploma      UK     White   \n",
       "2   4  18-24      F                     Masters degree      UK     White   \n",
       "3   5  35-44      F                   Doctorate degree      UK     White   \n",
       "4   6    65+      F            Left school at 18 years  Canada     White   \n",
       "\n",
       "    Nscore   Escore   Oscore   AScore   Cscore  Impulsive       SS Alcohol  \\\n",
       "0 -0.67825  1.93886  1.43533  0.76096 -0.14277   -0.71126 -0.21575     CL5   \n",
       "1 -0.46725  0.80523 -0.84732 -1.62090 -1.01450   -1.37983  0.40148     CL6   \n",
       "2 -0.14882 -0.80615 -0.01928  0.59042  0.58489   -1.37983 -1.18084     CL4   \n",
       "3  0.73545 -1.63340 -0.45174 -0.30172  1.30612   -0.21712 -0.21575     CL4   \n",
       "4 -0.67825 -0.30033 -1.55521  2.03972  1.63088   -1.37983 -1.54858     CL2   \n",
       "\n",
       "  Amphet Amyl Benzos Caff Cannabis Choc Coke Crack Ecstasy Heroin Ketamine  \\\n",
       "0    CL2  CL2    CL0  CL6      CL4  CL6  CL3   CL0     CL4    CL0      CL2   \n",
       "1    CL0  CL0    CL0  CL6      CL3  CL4  CL0   CL0     CL0    CL0      CL0   \n",
       "2    CL0  CL0    CL3  CL5      CL2  CL4  CL2   CL0     CL0    CL0      CL2   \n",
       "3    CL1  CL1    CL0  CL6      CL3  CL6  CL0   CL0     CL1    CL0      CL0   \n",
       "4    CL0  CL0    CL0  CL6      CL0  CL4  CL0   CL0     CL0    CL0      CL0   \n",
       "\n",
       "  Legalh  LSD Meth Mushrooms Nicotine Semer  VSA  \n",
       "0    CL0  CL2  CL3       CL0      CL4   CL0  CL0  \n",
       "1    CL0  CL0  CL0       CL1      CL0   CL0  CL0  \n",
       "2    CL0  CL0  CL0       CL0      CL2   CL0  CL0  \n",
       "3    CL1  CL0  CL0       CL2      CL2   CL0  CL0  \n",
       "4    CL0  CL0  CL0       CL0      CL6   CL0  CL0  "
      ]
     },
     "execution_count": 54,
     "metadata": {},
     "output_type": "execute_result"
    }
   ],
   "source": [
    "import pandas as pd\n",
    "import sklearn as sk\n",
    "import matplotlib.pyplot as plt\n",
    "import numpy as np\n",
    "\n",
    "dataRaw = pd.read_csv('Drug_Consumption.csv')\n",
    "dataQuantified = pd.read_csv('Drug_Consumption_Quantified.csv')\n",
    "# Quantified data refers to data that has been transformed or represented in a numerical format\n",
    "# suitable for analysis and modeling by machine learning algorithms.\n",
    "\n",
    "pd.set_option('display.max_columns', None)\n",
    "dataRaw.head(5)"
   ]
  },
  {
   "cell_type": "markdown",
   "metadata": {},
   "source": [
    "First observations:\n",
    "- The Age is given as ranges and not specific values\n",
    "- So far, the Gender is M or F. Maybe someone in the dataset didn't specify? We can take a look further on.\n",
    "- Education is what you would expect.\n",
    "- The Personality Trait scores look a lot like Standard Deviation values, given their observed range in these few rows. We will take a closer look later.\n",
    "- The drug consumption is measured from CL0 to CL6, as specified before. This might require a transformation later."
   ]
  },
  {
   "cell_type": "markdown",
   "metadata": {},
   "source": [
    "One of the first things worth looking into is whether our data has missing values or not. In the data set description, it said there were none, but let's just see it with our own eyes."
   ]
  },
  {
   "cell_type": "code",
   "execution_count": 3,
   "metadata": {},
   "outputs": [
    {
     "data": {
      "text/plain": [
       "<Axes: >"
      ]
     },
     "execution_count": 3,
     "metadata": {},
     "output_type": "execute_result"
    },
    {
     "data": {
      "image/png": "[encoded data removed]",
      "text/plain": [
       "<Figure size 2000x600 with 2 Axes>"
      ]
     },
     "metadata": {},
     "output_type": "display_data"
    }
   ],
   "source": [
    "import missingno as mno\n",
    "\n",
    "mno.matrix(dataRaw, figsize = (20, 6))"
   ]
  },
  {
   "cell_type": "markdown",
   "metadata": {},
   "source": [
    "Nice, all filled out!"
   ]
  },
  {
   "cell_type": "markdown",
   "metadata": {},
   "source": [
    "### Age\n",
    "Let's see what is the distribution of Age ranges in our data."
   ]
  },
  {
   "cell_type": "code",
   "execution_count": 4,
   "metadata": {},
   "outputs": [
    {
     "data": {
      "text/plain": [
       "<Axes: xlabel='Age'>"
      ]
     },
     "execution_count": 4,
     "metadata": {},
     "output_type": "execute_result"
    },
    {
     "data": {
      "image/png": "[encoded data removed]",
      "text/plain": [
       "<Figure size 400x200 with 1 Axes>"
      ]
     },
     "metadata": {},
     "output_type": "display_data"
    }
   ],
   "source": [
    "just_ages = dataRaw['Age']\n",
    "\n",
    "plt.figure(figsize=(4,2))\n",
    "just_ages.value_counts().plot(kind='bar')"
   ]
  },
  {
   "cell_type": "markdown",
   "metadata": {},
   "source": [
    "Okay, it looks like we have a considerable amount of young people in our data set! This is good because of what was discussed in Analysis - since people in their twenties are at a higher risk of Substance Use Disorder, they are the one who have probably done the most drugs recently, so each data point will be more valuable than one that is not a regular user of many substances."
   ]
  },
  {
   "cell_type": "markdown",
   "metadata": {},
   "source": [
    "### Gender\n",
    "Let's see the distribution of our data points in regards to gender, and whether or not we have a Gender value other than M or F."
   ]
  },
  {
   "cell_type": "code",
   "execution_count": 5,
   "metadata": {},
   "outputs": [
    {
     "data": {
      "text/plain": [
       "<Axes: ylabel='count'>"
      ]
     },
     "execution_count": 5,
     "metadata": {},
     "output_type": "execute_result"
    },
    {
     "data": {
      "image/png": "[encoded data removed]",
      "text/plain": [
       "<Figure size 400x200 with 1 Axes>"
      ]
     },
     "metadata": {},
     "output_type": "display_data"
    }
   ],
   "source": [
    "just_gender = dataRaw['Gender']\n",
    "\n",
    "plt.figure(figsize=(4,2))\n",
    "just_gender.value_counts().plot(kind='pie')"
   ]
  },
  {
   "cell_type": "markdown",
   "metadata": {},
   "source": [
    "Oh my, that looks like a near-perfect split! And we don't have any value other than M or F, which makes things a bit simpler. This is good. We have a considerable sample size for both genders, meaning both are properly represented."
   ]
  },
  {
   "cell_type": "markdown",
   "metadata": {},
   "source": [
    "### Education\n",
    "How many people do we have for each Education level? Let's see."
   ]
  },
  {
   "cell_type": "code",
   "execution_count": 6,
   "metadata": {},
   "outputs": [
    {
     "data": {
      "text/plain": [
       "<Axes: ylabel='Education'>"
      ]
     },
     "execution_count": 6,
     "metadata": {},
     "output_type": "execute_result"
    },
    {
     "data": {
      "image/png": "[encoded data removed]",
      "text/plain": [
       "<Figure size 400x200 with 1 Axes>"
      ]
     },
     "metadata": {},
     "output_type": "display_data"
    }
   ],
   "source": [
    "just_education = dataRaw['Education']\n",
    "\n",
    "plt.figure(figsize=(4,2))\n",
    "just_education.value_counts().plot(kind='barh')"
   ]
  },
  {
   "cell_type": "markdown",
   "metadata": {},
   "source": [
    "Okay okay! It looks like we have a pretty diverse dataset, ranging from people who are barely educated (all of those who left school), people who are fairly educated (got a diploma, or did some college/university), and people who are very educated (finished university, got a master's degree, or even a doctorate degree).\n",
    "\n",
    "Since some of these categories are pretty close to each other, we could consider merging some of them - for example, in the way I described above.\n",
    "\n",
    "Either way, this diversity is good - by not having people of only one education level, we can find patterns that are not so closely link to the level of education but rather to other factors (such as personality), which is what we're going for."
   ]
  },
  {
   "cell_type": "markdown",
   "metadata": {},
   "source": [
    "### Country\n",
    "The people in our data set - from what countries are they from? Let's see."
   ]
  },
  {
   "cell_type": "code",
   "execution_count": 7,
   "metadata": {},
   "outputs": [
    {
     "data": {
      "text/plain": [
       "<Axes: ylabel='Country'>"
      ]
     },
     "execution_count": 7,
     "metadata": {},
     "output_type": "execute_result"
    },
    {
     "data": {
      "image/png": "[encoded data removed]",
      "text/plain": [
       "<Figure size 400x200 with 1 Axes>"
      ]
     },
     "metadata": {},
     "output_type": "display_data"
    }
   ],
   "source": [
    "just_country = dataRaw['Country']\n",
    "\n",
    "plt.figure(figsize=(4,2))\n",
    "just_country.value_counts().plot(kind='barh')"
   ]
  },
  {
   "cell_type": "markdown",
   "metadata": {},
   "source": [
    "It looks like we mostly have people from English-speaking countries, featuring a large majority (over half of the data set) from the United Kingdom, and a whopping one third from the USA. We also have a couple data points from the continent of Oceania. We hope that the respondents from the UK will be a good representation of European citizens' tendencies.\n",
    "\n",
    "Our data seems to cover at least three continents - with this much diversity, we hope that our model will be able to find patterns that go beyond the person's national origin.\n",
    "\n",
    "One thing that is worth keeping in mind is the ease of access to illicit substances across different countries. "
   ]
  },
  {
   "cell_type": "markdown",
   "metadata": {},
   "source": [
    "Given that our main countries are the UK and the USA, we did some research about the Drug Scene in these countries and found the following:\n",
    "\n",
    "### UK Drug Scene\n",
    "According to the 2019 Report of the Drug Situation in the United Kingdom, issued by the UK Government itself , the most prevalent drugs in the UK are:\n",
    "- Cannabis\n",
    "- (Powder) Cocaine\n",
    "- MDMA\n",
    "- Ketamine\n",
    "- Amphetamine\n",
    "- Opioids\n",
    "- Benzodiazepines\n",
    "\n",
    "Access the report here: https://www.gov.uk/government/publications/united-kingdom-drug-situation-focal-point-annual-report/uk-drug-situation-2019-summary\n",
    "\n",
    "It is also worth noting that opioids were impled in 80% of the illicit-drug-related deaths in the UK. For this reason, this is a very high-risk type of drug for which awareness should be raised. For this reason, we will keep a closer eye on opioids during our research. The opioids we have in our data set are Heroin and Methadone.\n",
    "\n",
    "The UK Drug Situation Report reinforced the fact that young people are especially vulnerable to substance abuse.\n",
    "\n",
    "The report also states that the UK is one of the countries in Europe with the highest level of drug problems. In a way, this is good for us, because since UK respondents make for such a high percentage of our data, we will get very representative information - given that our chosen method of measuring performance was Recall, having the UK, a country with a lot of drug use, will probably increase our odds of finding all the actual positives. "
   ]
  },
  {
   "cell_type": "markdown",
   "metadata": {},
   "source": [
    "### USA Drug Scene\n",
    "According to *the 2020 SAMSHA National Survey on Drug Abuse and Mental Health*, here's what we found about the Illicit Drug Scene in the USA in recent years:\n",
    "\n",
    "The most prevalent addictive substances in the USA are, in order:\n",
    "\n",
    "- Alcohol\n",
    "- Nicotine\n",
    "- Marijuana\n",
    "- Opioids\n",
    "- Inhalants\n",
    "- Cocaine\n",
    "- Stimulants\n",
    "- Benzodiazepines\n",
    "- Barbiturates (sleeping pills)\n",
    "\n",
    "Nicotine addictions are a serious problem, particularly among young people due to the recent rise and ease of access to vaping devices.\n",
    "\n",
    "Cannabis use in the US is very concerning among young people, with nearly a third of last-year high-schoolers reporting having used marijuana in the past year.\n",
    "\n",
    "Just like in the UK, opioids are extremely lethal and addictive."
   ]
  },
  {
   "cell_type": "markdown",
   "metadata": {},
   "source": [
    "After these findings about the two most representative countries in our data, these are the drugs we will keep a close eye on when moving forward with our analysis and predictions:\n",
    "\n",
    "- **Opioids**: Because of the high letality of this type of drug, allied to its widespread use.\n",
    "- **Cannabis**: Because of its consistently high use across virtually all countries, which is particularly concerning among young people due to the long-term effects in brains that are far from being fully developed.\n",
    "- **Nicotine**: Young people are particularly vulnerable to nicotine addicitons because the younger one is first exposed to the drug, the harder it is to let go of an addiction. If it is truly possible to predict a nicotine addiction based on personality traits, it is crucial to do so and prevent it.\n",
    "- **Cocaine**: Cocaine lethalities are on the rise, and addiction remains a problem. This drug is widely used and abused, so this is something to tackle."
   ]
  },
  {
   "cell_type": "markdown",
   "metadata": {},
   "source": [
    "### Ethnicity\n",
    "We looked at the countries where our respondents live, but what about their ethnicity? Could this be a factor to consider as well when making predictions? Let's see what we're working with, and maybe to a little more research if deemed relevant."
   ]
  },
  {
   "cell_type": "code",
   "execution_count": 8,
   "metadata": {},
   "outputs": [
    {
     "data": {
      "text/plain": [
       "<Axes: ylabel='Ethnicity'>"
      ]
     },
     "execution_count": 8,
     "metadata": {},
     "output_type": "execute_result"
    },
    {
     "data": {
      "image/png": "[encoded data removed]",
      "text/plain": [
       "<Figure size 400x200 with 1 Axes>"
      ]
     },
     "metadata": {},
     "output_type": "display_data"
    }
   ],
   "source": [
    "just_ethnicity = dataRaw['Ethnicity']\n",
    "\n",
    "plt.figure(figsize=(4,2))\n",
    "just_ethnicity.value_counts().plot(kind='barh')"
   ]
  },
  {
   "cell_type": "markdown",
   "metadata": {},
   "source": [
    "It looks like there is an overwhelming majority of white respondents. Given this, we probably won't be able to tell whether or not ethnicity is a factor in drug abuse patterns - at least, not from our data. Given the little diversity in this column, it might be worth dropping."
   ]
  },
  {
   "cell_type": "markdown",
   "metadata": {},
   "source": [
    "### Personality Traits\n",
    "In the data set we took from the Internet, we saw no information about what scale the Personality Trait scores are on. So, we made a guess that they were standard deviation values - we imagined that whoever collected the data made a Personality Test for all respondents, got all their scores for each trait and transformed them into the std value they displayed in the context of the data set.\n",
    "\n",
    "We can now test this by visualizing these columns - if they form a normal distribution curve, our guess can be deemed as correct. Let's see."
   ]
  },
  {
   "cell_type": "code",
   "execution_count": 33,
   "metadata": {},
   "outputs": [],
   "source": [
    "# I just noticed that all the Big-Five personality trait columns\n",
    "# have 'score' written in lowercase except for Agreeableness,\n",
    "# which has it capitalized, so I'll just correct that on the\n",
    "# original DataFrame for consistency.\n",
    "\n",
    "dataRaw.rename(columns={'AScore': 'Ascore'}, inplace='true')"
   ]
  },
  {
   "cell_type": "code",
   "execution_count": 39,
   "metadata": {},
   "outputs": [
    {
     "data": {
      "text/plain": [
       "array([[<Axes: title={'center': 'Oscore'}>,\n",
       "        <Axes: title={'center': 'Cscore'}>,\n",
       "        <Axes: title={'center': 'Escore'}>],\n",
       "       [<Axes: title={'center': 'Ascore'}>,\n",
       "        <Axes: title={'center': 'Nscore'}>,\n",
       "        <Axes: title={'center': 'Impulsive'}>],\n",
       "       [<Axes: title={'center': 'SS'}>, <Axes: >, <Axes: >]], dtype=object)"
      ]
     },
     "execution_count": 39,
     "metadata": {},
     "output_type": "execute_result"
    },
    {
     "data": {
      "image/png": "[encoded data removed]",
      "text/plain": [
       "<Figure size 1000x700 with 9 Axes>"
      ]
     },
     "metadata": {},
     "output_type": "display_data"
    }
   ],
   "source": [
    "personality_cols = ['Oscore', 'Cscore', 'Escore', 'Ascore', 'Nscore', 'Impulsive', 'SS']\n",
    "personality_only = dataRaw[personality_cols]\n",
    "\n",
    "personality_only.hist(bins=15, figsize=(10,7), grid=False)"
   ]
  },
  {
   "cell_type": "markdown",
   "metadata": {},
   "source": [
    "Interesting! The Big-Five values seem pretty normally distributed, and while the scores for Impulsiveness and Sensation Seeking still look fairly equally distributed, they look a bit odd, not to mention they have a narrower range than the other personality features. This could be because they are not part of the same Personality Analysis theory, so they are measured differently. We will take a closer look in just a moment. First, let's also use the .describe() function on this subset of features to see what we can find out."
   ]
  },
  {
   "cell_type": "code",
   "execution_count": 36,
   "metadata": {},
   "outputs": [
    {
     "data": {
      "text/html": [
       "<div>\n",
       "<style scoped>\n",
       "    .dataframe tbody tr th:only-of-type {\n",
       "        vertical-align: middle;\n",
       "    }\n",
       "\n",
       "    .dataframe tbody tr th {\n",
       "        vertical-align: top;\n",
       "    }\n",
       "\n",
       "    .dataframe thead th {\n",
       "        text-align: right;\n",
       "    }\n",
       "</style>\n",
       "<table border=\"1\" class=\"dataframe\">\n",
       "  <thead>\n",
       "    <tr style=\"text-align: right;\">\n",
       "      <th></th>\n",
       "      <th>Oscore</th>\n",
       "      <th>Cscore</th>\n",
       "      <th>Escore</th>\n",
       "      <th>Ascore</th>\n",
       "      <th>Nscore</th>\n",
       "      <th>Impulsive</th>\n",
       "      <th>SS</th>\n",
       "    </tr>\n",
       "  </thead>\n",
       "  <tbody>\n",
       "    <tr>\n",
       "      <th>count</th>\n",
       "      <td>1884.000000</td>\n",
       "      <td>1884.000000</td>\n",
       "      <td>1884.000000</td>\n",
       "      <td>1884.000000</td>\n",
       "      <td>1884.000000</td>\n",
       "      <td>1884.000000</td>\n",
       "      <td>1884.000000</td>\n",
       "    </tr>\n",
       "    <tr>\n",
       "      <th>mean</th>\n",
       "      <td>-0.000225</td>\n",
       "      <td>-0.000383</td>\n",
       "      <td>0.000143</td>\n",
       "      <td>0.000242</td>\n",
       "      <td>-0.000119</td>\n",
       "      <td>0.007335</td>\n",
       "      <td>-0.002667</td>\n",
       "    </tr>\n",
       "    <tr>\n",
       "      <th>std</th>\n",
       "      <td>0.996402</td>\n",
       "      <td>0.997787</td>\n",
       "      <td>0.997625</td>\n",
       "      <td>0.997481</td>\n",
       "      <td>0.998345</td>\n",
       "      <td>0.954674</td>\n",
       "      <td>0.963575</td>\n",
       "    </tr>\n",
       "    <tr>\n",
       "      <th>min</th>\n",
       "      <td>-3.273930</td>\n",
       "      <td>-3.464360</td>\n",
       "      <td>-3.273930</td>\n",
       "      <td>-3.464360</td>\n",
       "      <td>-3.464360</td>\n",
       "      <td>-2.555240</td>\n",
       "      <td>-2.078480</td>\n",
       "    </tr>\n",
       "    <tr>\n",
       "      <th>25%</th>\n",
       "      <td>-0.717270</td>\n",
       "      <td>-0.652530</td>\n",
       "      <td>-0.695090</td>\n",
       "      <td>-0.606330</td>\n",
       "      <td>-0.678250</td>\n",
       "      <td>-0.711260</td>\n",
       "      <td>-0.525930</td>\n",
       "    </tr>\n",
       "    <tr>\n",
       "      <th>50%</th>\n",
       "      <td>-0.019280</td>\n",
       "      <td>-0.006650</td>\n",
       "      <td>0.003320</td>\n",
       "      <td>-0.017290</td>\n",
       "      <td>0.042570</td>\n",
       "      <td>-0.217120</td>\n",
       "      <td>0.079870</td>\n",
       "    </tr>\n",
       "    <tr>\n",
       "      <th>75%</th>\n",
       "      <td>0.723300</td>\n",
       "      <td>0.584890</td>\n",
       "      <td>0.637790</td>\n",
       "      <td>0.760960</td>\n",
       "      <td>0.629670</td>\n",
       "      <td>0.529750</td>\n",
       "      <td>0.765400</td>\n",
       "    </tr>\n",
       "    <tr>\n",
       "      <th>max</th>\n",
       "      <td>2.901610</td>\n",
       "      <td>3.464360</td>\n",
       "      <td>3.273930</td>\n",
       "      <td>3.464360</td>\n",
       "      <td>3.273930</td>\n",
       "      <td>2.901610</td>\n",
       "      <td>1.921730</td>\n",
       "    </tr>\n",
       "  </tbody>\n",
       "</table>\n",
       "</div>"
      ],
      "text/plain": [
       "            Oscore       Cscore       Escore       Ascore       Nscore  \\\n",
       "count  1884.000000  1884.000000  1884.000000  1884.000000  1884.000000   \n",
       "mean     -0.000225    -0.000383     0.000143     0.000242    -0.000119   \n",
       "std       0.996402     0.997787     0.997625     0.997481     0.998345   \n",
       "min      -3.273930    -3.464360    -3.273930    -3.464360    -3.464360   \n",
       "25%      -0.717270    -0.652530    -0.695090    -0.606330    -0.678250   \n",
       "50%      -0.019280    -0.006650     0.003320    -0.017290     0.042570   \n",
       "75%       0.723300     0.584890     0.637790     0.760960     0.629670   \n",
       "max       2.901610     3.464360     3.273930     3.464360     3.273930   \n",
       "\n",
       "         Impulsive           SS  \n",
       "count  1884.000000  1884.000000  \n",
       "mean      0.007335    -0.002667  \n",
       "std       0.954674     0.963575  \n",
       "min      -2.555240    -2.078480  \n",
       "25%      -0.711260    -0.525930  \n",
       "50%      -0.217120     0.079870  \n",
       "75%       0.529750     0.765400  \n",
       "max       2.901610     1.921730  "
      ]
     },
     "execution_count": 36,
     "metadata": {},
     "output_type": "execute_result"
    }
   ],
   "source": [
    "personality_only.describe()"
   ]
  },
  {
   "cell_type": "markdown",
   "metadata": {},
   "source": [
    "Honestly, that's kind of beautiful.\n",
    "Here is some evidence that our Personality Traits data is normally distributed:\n",
    "\n",
    "- The mean value of all features approximates to zero\n",
    "- All features have approximately the same standard deviation value, even if some of their ranges differ\n",
    "\n",
    "These are our (rounded) observed ranges for all Personality Trait subsets:\n",
    "- Big-Five features: [-3.5, +3.5]\n",
    "- Impulsiveness: [-2.5, +3.0]\n",
    "- Sensation Seeking: [-2.0, +2.0]\n",
    "\n",
    "I feel tempted to make all of them fit into a [-2.0, +2.0] range just so that they're all in the same scale. If we apply the same transformation (perhaps a simple multiplication?) to all the data points of a column, it will not affect their distribution, only their range, which is beneficial. Let's do that in part 4 - Preprocessing.\n",
    "\n",
    "### !!! Note to Kamil: !!!\n",
    "I would suggest:\n",
    "- Multiplying the values in all the Big-Five features by 0.571 (because it's 2.0/3.5, so if you multiply 3.5 by 0.571 it gives 2.0)\n",
    "- Multiplying the values in Impulsiveness by 0.666 (so that 3.0 becomes 2.0)\n",
    "- And I was wondering if, maybe, after all of those transformations, it would be wise to positively offset everything by +2? That way, the range is [0,4] for all features. Maybe this makes future transformations easier? Or do you think it's redundant and can be left between [-2,+2]? Would love to hear your thoughts. I think both are fine, but just putting it out there.\n"
   ]
  },
  {
   "cell_type": "markdown",
   "metadata": {},
   "source": [
    "Could it also be interesting to see how many unique values exist in each of these columns? Let's see."
   ]
  },
  {
   "cell_type": "code",
   "execution_count": 37,
   "metadata": {},
   "outputs": [
    {
     "data": {
      "text/plain": [
       "Oscore       35\n",
       "Cscore       41\n",
       "Escore       42\n",
       "Ascore       41\n",
       "Nscore       49\n",
       "Impulsive    10\n",
       "SS           11\n",
       "dtype: int64"
      ]
     },
     "execution_count": 37,
     "metadata": {},
     "output_type": "execute_result"
    }
   ],
   "source": [
    "personality_only.nunique()"
   ]
  },
  {
   "cell_type": "markdown",
   "metadata": {},
   "source": [
    "Well, that sure gives us a hint on why the distribution of the Impulsive and SS values looked different than the rest!\n",
    "\n",
    "According to the printed output above, the Big-Five scores are measured a lot more continuously than the Impulsive and SS - in other words, the Big-Five contain \"more boxes\".\n",
    "\n",
    "From this, we can imagine the Big-Five original scores to be, for example, all integer numbers between -20 and 20 (rounded for simplicity) and the Imp/SS scores to be something between -5 and 5."
   ]
  },
  {
   "cell_type": "markdown",
   "metadata": {},
   "source": [
    "Knowing this, let's plot Imp and SS again, but with even less \"bins\" to see if they look \"more normal\"."
   ]
  },
  {
   "cell_type": "code",
   "execution_count": 67,
   "metadata": {},
   "outputs": [],
   "source": [
    "odd_cols = ['Impulsive', 'SS']\n",
    "\n",
    "imp_and_ss = dataRaw[odd_cols]"
   ]
  },
  {
   "cell_type": "code",
   "execution_count": 68,
   "metadata": {},
   "outputs": [
    {
     "data": {
      "text/plain": [
       "array([[<Axes: title={'center': 'Impulsive'}>,\n",
       "        <Axes: title={'center': 'SS'}>]], dtype=object)"
      ]
     },
     "execution_count": 68,
     "metadata": {},
     "output_type": "execute_result"
    },
    {
     "data": {
      "image/png": "[encoded data removed]",
      "text/plain": [
       "<Figure size 400x150 with 2 Axes>"
      ]
     },
     "metadata": {},
     "output_type": "display_data"
    }
   ],
   "source": [
    "# 10 bins\n",
    "imp_and_ss.hist(bins=10, figsize=(4,1.5), grid=False)"
   ]
  },
  {
   "cell_type": "code",
   "execution_count": 69,
   "metadata": {},
   "outputs": [
    {
     "data": {
      "text/plain": [
       "array([[<Axes: title={'center': 'Impulsive'}>,\n",
       "        <Axes: title={'center': 'SS'}>]], dtype=object)"
      ]
     },
     "execution_count": 69,
     "metadata": {},
     "output_type": "execute_result"
    },
    {
     "data": {
      "image/png": "[encoded data removed]",
      "text/plain": [
       "<Figure size 400x150 with 2 Axes>"
      ]
     },
     "metadata": {},
     "output_type": "display_data"
    }
   ],
   "source": [
    "# 5 bins\n",
    "imp_and_ss.hist(bins=5, figsize=(4,1.5), grid=False)"
   ]
  },
  {
   "cell_type": "markdown",
   "metadata": {},
   "source": [
    "Okay - Impulsiveness looks pretty normally distributed when we give it the number of \"bins\" that its data was originally split in, but SS still stands out.\n",
    "\n",
    "It looks like there is an unusually large amount of respondents scoring between -1.2 and -0.8. What now? Do we trust the data and assume that our respondents were just not very Sensation Seeking given the small sample size, or do we readjust it to have a normal distribution like the other features?\n",
    "\n",
    "For now, we will leave it as it is.\n",
    "\n",
    "<<< NOTE TO KAMIL: I tried doing a transformation to make it become Normally Distributed but my attempts failed! I tried doing +2 (so they're all positive) and then square it, but the resulting curve wasn't any better... If you can do it, I think it would be nice. But if you can't, I think it's also okay to leave it as it is because it's not that bad. Let me know :D >>>"
   ]
  },
  {
   "cell_type": "markdown",
   "metadata": {},
   "source": [
    "Having observed all of this, we conclude that the Personality Trait scores follow a normal distribution, and can move on with our analysis."
   ]
  },
  {
   "cell_type": "markdown",
   "metadata": {},
   "source": [
    "### Substances\n",
    "Substances, substances... There are so many questions that can be asked with the information that we have. Let's break them down:\n",
    "\n",
    "- Given that our desired label is \"user\" or \"non-user\" (as opposed to CL0-CL6 like we have now), when is it a good idea to already our data?\n",
    "\n",
    "(Let's first see the frequency tendencies we see with each substance and then go from there.)\n",
    "\n",
    "- What drugs do people consume on a daily-basis?\n",
    "- What drugs do people consume on a weekly-basis?\n",
    "- What drugs have our respondents only consumed in the past year?\n",
    "- And in the past decade?\n",
    "- What are the drugs that have never been tried by the most people?\n",
    "\n",
    "(Now would be a good time to transform CL0-CL6 to user/non-user.)\n",
    "\n",
    "- What drugs have the most and the least users?\n",
    "- Are there any drugs in our data set that are so rare that they are not even worth adding to our predictions?\n",
    "\n",
    "Maybe more questions will pop up as we visualize the data. Let's see."
   ]
  },
  {
   "cell_type": "code",
   "execution_count": 72,
   "metadata": {},
   "outputs": [],
   "source": [
    "drugs_cols = ['Alcohol', 'Amphet', 'Amyl', 'Benzos', 'Caff', 'Cannabis', 'Choc', 'Coke', 'Crack', 'Ecstasy', 'Heroin', 'Ketamine', 'Legalh', 'LSD', 'Meth', 'Mushrooms', 'Nicotine', 'Semer', 'VSA']\n",
    "\n",
    "drugs_only = dataRaw[drugs_cols]"
   ]
  },
  {
   "cell_type": "code",
   "execution_count": 188,
   "metadata": {},
   "outputs": [],
   "source": [
    "# Define a function that prints out a certain substance's frequency\n",
    "\n",
    "def calc_and_print_frequency(colname, freq):\n",
    "    try:\n",
    "        count = drugs_only[colname].value_counts()[freq]\n",
    "    except:\n",
    "        count = 0\n",
    "    pct = round(count / 1885 * 100, 2)\n",
    "    print_freq(colname,freq,count,pct)\n",
    "\n",
    "\n",
    "def print_freq(colname, freq, count, pct):\n",
    "    print(colname + \" \" + cl_to_words(freq) + str(count) + \" \\t(\" + str(pct) + \"%)\")\n",
    "\n",
    "def make_frequency_df(freq):\n",
    "    pct_by_freq = pd.DataFrame({'Substance': [],\n",
    "                                'NumOfPeople': [],\n",
    "                                'PctOfPeople': []})\n",
    "    i = 0\n",
    "    for col in drugs_cols:\n",
    "        try:\n",
    "            count = drugs_only[col].value_counts()[freq]\n",
    "        except:\n",
    "            count = 0\n",
    "        pct = round(count / 1885 * 100, 2)\n",
    "        obj = {'Substance': col,\n",
    "               'NumOfPeople': count,\n",
    "               'PctOfPeople': pct}\n",
    "        pct_by_freq.loc[i] = obj\n",
    "        i = i + 1\n",
    "\n",
    "    pct_by_freq.sort_values('PctOfPeople', ascending=False, inplace=True)\n",
    "    pct_by_freq.set_index('Substance', inplace=True)\n",
    "    return pct_by_freq\n",
    "\n",
    "def cl_to_words(cl):\n",
    "    switcher = {\n",
    "        'CL0': \"Never Attempted: \",\n",
    "        'CL1': \"Used Over a Decade Ago: \",\n",
    "        'CL2': \"Used In Last Decade: \",\n",
    "        'CL3': \"Used in Last Year: \",\n",
    "        'CL4': \"Used in Last Month: \",\n",
    "        'CL5': \"Used in Last Week: \",\n",
    "        'CL6': \"Used in Last Day: \"\n",
    "    }\n",
    "    return switcher.get(cl)"
   ]
  },
  {
   "cell_type": "markdown",
   "metadata": {},
   "source": [
    "### What substances have these people consumed the **DAY** before the survey?"
   ]
  },
  {
   "cell_type": "code",
   "execution_count": 190,
   "metadata": {},
   "outputs": [
    {
     "data": {
      "text/plain": [
       "<Axes: ylabel='Substance'>"
      ]
     },
     "execution_count": 190,
     "metadata": {},
     "output_type": "execute_result"
    },
    {
     "data": {
      "image/png": "[encoded data removed]",
      "text/plain": [
       "<Figure size 500x300 with 1 Axes>"
      ]
     },
     "metadata": {},
     "output_type": "display_data"
    }
   ],
   "source": [
    "daily = make_frequency_df('CL6')\n",
    "\n",
    "daily_pct = daily['PctOfPeople']\n",
    "\n",
    "daily_pct.plot.barh(figsize=(5,3), xlim=[0,100])"
   ]
  },
  {
   "cell_type": "code",
   "execution_count": 191,
   "metadata": {},
   "outputs": [
    {
     "data": {
      "text/html": [
       "<div>\n",
       "<style scoped>\n",
       "    .dataframe tbody tr th:only-of-type {\n",
       "        vertical-align: middle;\n",
       "    }\n",
       "\n",
       "    .dataframe tbody tr th {\n",
       "        vertical-align: top;\n",
       "    }\n",
       "\n",
       "    .dataframe thead th {\n",
       "        text-align: right;\n",
       "    }\n",
       "</style>\n",
       "<table border=\"1\" class=\"dataframe\">\n",
       "  <thead>\n",
       "    <tr style=\"text-align: right;\">\n",
       "      <th></th>\n",
       "      <th>NumOfPeople</th>\n",
       "      <th>PctOfPeople</th>\n",
       "    </tr>\n",
       "    <tr>\n",
       "      <th>Substance</th>\n",
       "      <th></th>\n",
       "      <th></th>\n",
       "    </tr>\n",
       "  </thead>\n",
       "  <tbody>\n",
       "    <tr>\n",
       "      <th>Caff</th>\n",
       "      <td>1384</td>\n",
       "      <td>73.42</td>\n",
       "    </tr>\n",
       "    <tr>\n",
       "      <th>Choc</th>\n",
       "      <td>807</td>\n",
       "      <td>42.81</td>\n",
       "    </tr>\n",
       "    <tr>\n",
       "      <th>Nicotine</th>\n",
       "      <td>610</td>\n",
       "      <td>32.36</td>\n",
       "    </tr>\n",
       "    <tr>\n",
       "      <th>Alcohol</th>\n",
       "      <td>505</td>\n",
       "      <td>26.79</td>\n",
       "    </tr>\n",
       "    <tr>\n",
       "      <th>Cannabis</th>\n",
       "      <td>463</td>\n",
       "      <td>24.56</td>\n",
       "    </tr>\n",
       "    <tr>\n",
       "      <th>Amphet</th>\n",
       "      <td>102</td>\n",
       "      <td>5.41</td>\n",
       "    </tr>\n",
       "    <tr>\n",
       "      <th>Benzos</th>\n",
       "      <td>95</td>\n",
       "      <td>5.04</td>\n",
       "    </tr>\n",
       "    <tr>\n",
       "      <th>Meth</th>\n",
       "      <td>73</td>\n",
       "      <td>3.87</td>\n",
       "    </tr>\n",
       "    <tr>\n",
       "      <th>Legalh</th>\n",
       "      <td>67</td>\n",
       "      <td>3.55</td>\n",
       "    </tr>\n",
       "    <tr>\n",
       "      <th>Ecstasy</th>\n",
       "      <td>21</td>\n",
       "      <td>1.11</td>\n",
       "    </tr>\n",
       "    <tr>\n",
       "      <th>Coke</th>\n",
       "      <td>19</td>\n",
       "      <td>1.01</td>\n",
       "    </tr>\n",
       "    <tr>\n",
       "      <th>Heroin</th>\n",
       "      <td>13</td>\n",
       "      <td>0.69</td>\n",
       "    </tr>\n",
       "    <tr>\n",
       "      <th>LSD</th>\n",
       "      <td>13</td>\n",
       "      <td>0.69</td>\n",
       "    </tr>\n",
       "    <tr>\n",
       "      <th>VSA</th>\n",
       "      <td>7</td>\n",
       "      <td>0.37</td>\n",
       "    </tr>\n",
       "    <tr>\n",
       "      <th>Ketamine</th>\n",
       "      <td>4</td>\n",
       "      <td>0.21</td>\n",
       "    </tr>\n",
       "    <tr>\n",
       "      <th>Mushrooms</th>\n",
       "      <td>4</td>\n",
       "      <td>0.21</td>\n",
       "    </tr>\n",
       "    <tr>\n",
       "      <th>Amyl</th>\n",
       "      <td>3</td>\n",
       "      <td>0.16</td>\n",
       "    </tr>\n",
       "    <tr>\n",
       "      <th>Crack</th>\n",
       "      <td>2</td>\n",
       "      <td>0.11</td>\n",
       "    </tr>\n",
       "    <tr>\n",
       "      <th>Semer</th>\n",
       "      <td>0</td>\n",
       "      <td>0.00</td>\n",
       "    </tr>\n",
       "  </tbody>\n",
       "</table>\n",
       "</div>"
      ],
      "text/plain": [
       "           NumOfPeople  PctOfPeople\n",
       "Substance                          \n",
       "Caff              1384        73.42\n",
       "Choc               807        42.81\n",
       "Nicotine           610        32.36\n",
       "Alcohol            505        26.79\n",
       "Cannabis           463        24.56\n",
       "Amphet             102         5.41\n",
       "Benzos              95         5.04\n",
       "Meth                73         3.87\n",
       "Legalh              67         3.55\n",
       "Ecstasy             21         1.11\n",
       "Coke                19         1.01\n",
       "Heroin              13         0.69\n",
       "LSD                 13         0.69\n",
       "VSA                  7         0.37\n",
       "Ketamine             4         0.21\n",
       "Mushrooms            4         0.21\n",
       "Amyl                 3         0.16\n",
       "Crack                2         0.11\n",
       "Semer                0         0.00"
      ]
     },
     "execution_count": 191,
     "metadata": {},
     "output_type": "execute_result"
    }
   ],
   "source": [
    "daily"
   ]
  },
  {
   "cell_type": "markdown",
   "metadata": {},
   "source": [
    "Very interesting numbers! Observations:\n",
    "\n",
    "***In the 24 hours before the survey:*** \n",
    "\n",
    "*Significant consumption:*   \n",
    "\n",
    "- Three fourths **(75%)** of the people drank **coffee**.\n",
    "- **42%** of the people ate **chocolate**.\n",
    "- A third **(32%)** of the people consumed **nicotine**.\n",
    "- A fourth **(25%)** of the people drank **alcohol**.\n",
    "- Also, a fourth **(25%)** of the people smoked **cannabis**!\n",
    "\n",
    "\n",
    "The most consumed substances on a daily basis are the legal ones, except for cannabis, which, despite being illegal, still scored very high.\n",
    "\n",
    "***Noticeable consumption:***  \n",
    "\n",
    "- Amphetamines (102 people, 5%)\n",
    "- Benzodiazepines (95 people, 5%)\n",
    "- Legal Highs (67 people, 3%)\n",
    "- Methadone (73 people, 4%)\n",
    "\n",
    "This was interesting to notice. Apart from legal highs, the second \"level\" of drugs that are being consumed on the daily basis are those that, despite being illegal recreationally, can be prescribed medically (amphetamines for ADHD, benzodiazepines for anxiety/insomnia, and methadone for pain relief and Opioid Use Disorder). Unfortunately, we have no data on how each respondent acquired each drug they have consumed, but we can assume with fair confidence that the trend for these drugs to be higher on the list is that they are being acquired in a prescription context.\n",
    "\n",
    "***Low consumption:***  \n",
    "\n",
    "- Ecstasy (21 people, 1.11%)\n",
    "- Coke (19 people, 1.01%)\n",
    "- LSD (13 people, 0.69%)\n",
    "- Ketamine (13 people, 0.69%)\n",
    "- Volatile Substances (7 people, 0.37%)\n",
    "- Mushrooms (4 people, 0.21%)\n",
    "- Amyl Nitrite (3 people, 0.16%)\n",
    "- Heroin (3 people, 0.16%)\n",
    "- Crack (2 people, 0.11%)\n",
    "\n",
    "Although some of these substances are a bit hardcore, there was always at least someone who had used them in the past day. That's wild, but it means we got a good group of respondents. (Because the ideal group of respondents would range from super sober people to people who are straight up unhinged.)\n",
    "\n",
    "***No consumption at all:***\n",
    "\n",
    "- Semer (0 people)\n",
    "\n",
    "It's very appropriate that no one answered that they had done Semer in the past day - since this drug is fictional. It would have been hilarious if someone had claimed that, but no. Maybe with a bigger sample size. Anyway. :)"
   ]
  },
  {
   "cell_type": "markdown",
   "metadata": {},
   "source": [
    "### What substances have these people consumed the **WEEK** before the survey?"
   ]
  },
  {
   "cell_type": "code",
   "execution_count": 192,
   "metadata": {},
   "outputs": [
    {
     "data": {
      "text/plain": [
       "<Axes: ylabel='Substance'>"
      ]
     },
     "execution_count": 192,
     "metadata": {},
     "output_type": "execute_result"
    },
    {
     "data": {
      "image/png": "[encoded data removed]",
      "text/plain": [
       "<Figure size 500x300 with 1 Axes>"
      ]
     },
     "metadata": {},
     "output_type": "display_data"
    }
   ],
   "source": [
    "weekly = make_frequency_df('CL5')\n",
    "\n",
    "weekly_pct = weekly['PctOfPeople']\n",
    "\n",
    "weekly_pct.plot.barh(figsize=(5,3), xlim=[0,100])"
   ]
  },
  {
   "cell_type": "code",
   "execution_count": 193,
   "metadata": {},
   "outputs": [
    {
     "data": {
      "text/html": [
       "<div>\n",
       "<style scoped>\n",
       "    .dataframe tbody tr th:only-of-type {\n",
       "        vertical-align: middle;\n",
       "    }\n",
       "\n",
       "    .dataframe tbody tr th {\n",
       "        vertical-align: top;\n",
       "    }\n",
       "\n",
       "    .dataframe thead th {\n",
       "        text-align: right;\n",
       "    }\n",
       "</style>\n",
       "<table border=\"1\" class=\"dataframe\">\n",
       "  <thead>\n",
       "    <tr style=\"text-align: right;\">\n",
       "      <th></th>\n",
       "      <th>NumOfPeople</th>\n",
       "      <th>PctOfPeople</th>\n",
       "    </tr>\n",
       "    <tr>\n",
       "      <th>Substance</th>\n",
       "      <th></th>\n",
       "      <th></th>\n",
       "    </tr>\n",
       "  </thead>\n",
       "  <tbody>\n",
       "    <tr>\n",
       "      <th>Alcohol</th>\n",
       "      <td>758</td>\n",
       "      <td>40.21</td>\n",
       "    </tr>\n",
       "    <tr>\n",
       "      <th>Choc</th>\n",
       "      <td>682</td>\n",
       "      <td>36.18</td>\n",
       "    </tr>\n",
       "    <tr>\n",
       "      <th>Caff</th>\n",
       "      <td>273</td>\n",
       "      <td>14.48</td>\n",
       "    </tr>\n",
       "    <tr>\n",
       "      <th>Cannabis</th>\n",
       "      <td>185</td>\n",
       "      <td>9.81</td>\n",
       "    </tr>\n",
       "    <tr>\n",
       "      <th>Nicotine</th>\n",
       "      <td>157</td>\n",
       "      <td>8.33</td>\n",
       "    </tr>\n",
       "    <tr>\n",
       "      <th>Benzos</th>\n",
       "      <td>84</td>\n",
       "      <td>4.46</td>\n",
       "    </tr>\n",
       "    <tr>\n",
       "      <th>Legalh</th>\n",
       "      <td>64</td>\n",
       "      <td>3.40</td>\n",
       "    </tr>\n",
       "    <tr>\n",
       "      <th>Ecstasy</th>\n",
       "      <td>63</td>\n",
       "      <td>3.34</td>\n",
       "    </tr>\n",
       "    <tr>\n",
       "      <th>Amphet</th>\n",
       "      <td>61</td>\n",
       "      <td>3.24</td>\n",
       "    </tr>\n",
       "    <tr>\n",
       "      <th>LSD</th>\n",
       "      <td>56</td>\n",
       "      <td>2.97</td>\n",
       "    </tr>\n",
       "    <tr>\n",
       "      <th>Meth</th>\n",
       "      <td>48</td>\n",
       "      <td>2.55</td>\n",
       "    </tr>\n",
       "    <tr>\n",
       "      <th>Coke</th>\n",
       "      <td>41</td>\n",
       "      <td>2.18</td>\n",
       "    </tr>\n",
       "    <tr>\n",
       "      <th>Mushrooms</th>\n",
       "      <td>40</td>\n",
       "      <td>2.12</td>\n",
       "    </tr>\n",
       "    <tr>\n",
       "      <th>Ketamine</th>\n",
       "      <td>33</td>\n",
       "      <td>1.75</td>\n",
       "    </tr>\n",
       "    <tr>\n",
       "      <th>Heroin</th>\n",
       "      <td>16</td>\n",
       "      <td>0.85</td>\n",
       "    </tr>\n",
       "    <tr>\n",
       "      <th>Amyl</th>\n",
       "      <td>14</td>\n",
       "      <td>0.74</td>\n",
       "    </tr>\n",
       "    <tr>\n",
       "      <th>VSA</th>\n",
       "      <td>14</td>\n",
       "      <td>0.74</td>\n",
       "    </tr>\n",
       "    <tr>\n",
       "      <th>Crack</th>\n",
       "      <td>9</td>\n",
       "      <td>0.48</td>\n",
       "    </tr>\n",
       "    <tr>\n",
       "      <th>Semer</th>\n",
       "      <td>0</td>\n",
       "      <td>0.00</td>\n",
       "    </tr>\n",
       "  </tbody>\n",
       "</table>\n",
       "</div>"
      ],
      "text/plain": [
       "           NumOfPeople  PctOfPeople\n",
       "Substance                          \n",
       "Alcohol            758        40.21\n",
       "Choc               682        36.18\n",
       "Caff               273        14.48\n",
       "Cannabis           185         9.81\n",
       "Nicotine           157         8.33\n",
       "Benzos              84         4.46\n",
       "Legalh              64         3.40\n",
       "Ecstasy             63         3.34\n",
       "Amphet              61         3.24\n",
       "LSD                 56         2.97\n",
       "Meth                48         2.55\n",
       "Coke                41         2.18\n",
       "Mushrooms           40         2.12\n",
       "Ketamine            33         1.75\n",
       "Heroin              16         0.85\n",
       "Amyl                14         0.74\n",
       "VSA                 14         0.74\n",
       "Crack                9         0.48\n",
       "Semer                0         0.00"
      ]
     },
     "execution_count": 193,
     "metadata": {},
     "output_type": "execute_result"
    }
   ],
   "source": [
    "weekly"
   ]
  },
  {
   "cell_type": "markdown",
   "metadata": {},
   "source": [
    "~ observations go here... ~"
   ]
  },
  {
   "cell_type": "markdown",
   "metadata": {},
   "source": [
    "### What substances have these people consumed the **MONTH** before the survey?"
   ]
  },
  {
   "cell_type": "code",
   "execution_count": null,
   "metadata": {},
   "outputs": [],
   "source": [
    "# code for graph"
   ]
  },
  {
   "cell_type": "code",
   "execution_count": null,
   "metadata": {},
   "outputs": [],
   "source": [
    "# code for list"
   ]
  },
  {
   "cell_type": "markdown",
   "metadata": {},
   "source": [
    "### What substances have these people consumed the **YEAR** before the survey?"
   ]
  },
  {
   "cell_type": "code",
   "execution_count": null,
   "metadata": {},
   "outputs": [],
   "source": [
    "# code for graph"
   ]
  },
  {
   "cell_type": "code",
   "execution_count": null,
   "metadata": {},
   "outputs": [],
   "source": [
    "# code for list"
   ]
  },
  {
   "cell_type": "markdown",
   "metadata": {},
   "source": [
    "### What substances have these people consumed the **DECADE** before the survey?"
   ]
  },
  {
   "cell_type": "code",
   "execution_count": null,
   "metadata": {},
   "outputs": [],
   "source": [
    "# code for graph"
   ]
  },
  {
   "cell_type": "code",
   "execution_count": null,
   "metadata": {},
   "outputs": [],
   "source": [
    "# code for list"
   ]
  },
  {
   "cell_type": "markdown",
   "metadata": {},
   "source": [
    "### What substances have these people **NEVER** consumed... before the survey?"
   ]
  },
  {
   "cell_type": "code",
   "execution_count": null,
   "metadata": {},
   "outputs": [],
   "source": [
    "# code for graph"
   ]
  },
  {
   "cell_type": "code",
   "execution_count": null,
   "metadata": {},
   "outputs": [],
   "source": [
    "# code for list"
   ]
  },
  {
   "cell_type": "markdown",
   "metadata": {},
   "source": [
    "### **~ ~ ~ data transformation from CL0-CL6 to user/non-user, with justification ~ ~ ~**"
   ]
  },
  {
   "cell_type": "code",
   "execution_count": null,
   "metadata": {},
   "outputs": [],
   "source": [
    "# code code code transformation"
   ]
  },
  {
   "cell_type": "markdown",
   "metadata": {},
   "source": [
    "### What substances have the most and the least users?"
   ]
  },
  {
   "cell_type": "code",
   "execution_count": null,
   "metadata": {},
   "outputs": [],
   "source": [
    "# code for list"
   ]
  },
  {
   "cell_type": "markdown",
   "metadata": {},
   "source": [
    "### Are there any substances in our data set that are so rare that they are not even worth adding to our predictions?"
   ]
  },
  {
   "cell_type": "markdown",
   "metadata": {},
   "source": [
    "(probably just markdown since we can see the info above)"
   ]
  },
  {
   "cell_type": "markdown",
   "metadata": {},
   "source": [
    "### Features Correlation   \n",
    "(intro...)"
   ]
  },
  {
   "cell_type": "code",
   "execution_count": 9,
   "metadata": {},
   "outputs": [],
   "source": [
    "# import seaborn as sns\n",
    "# import matplotlib.pyplot as plt\n",
    "\n",
    "# # Create a correlation matrix\n",
    "# correlation_matrix = dataQuantified.corr()\n",
    "\n",
    "# # Create a heatmap\n",
    "# plt.figure(figsize=(15, 8))\n",
    "# sns.heatmap(correlation_matrix, annot=True, cmap='coolwarm', fmt=\".2f\")\n",
    "# plt.title(\"Correlation Matrix\")\n",
    "# plt.show()"
   ]
  },
  {
   "cell_type": "markdown",
   "metadata": {},
   "source": [
    "The data requires preprocessing"
   ]
  }
 ],
 "metadata": {
  "kernelspec": {
   "display_name": "Python 3",
   "language": "python",
   "name": "python3"
  },
  "language_info": {
   "codemirror_mode": {
    "name": "ipython",
    "version": 3
   },
   "file_extension": ".py",
   "mimetype": "text/x-python",
   "name": "python",
   "nbconvert_exporter": "python",
   "pygments_lexer": "ipython3",
   "version": "3.11.5"
  },
  "orig_nbformat": 4
 },
 "nbformat": 4,
 "nbformat_minor": 2
}
