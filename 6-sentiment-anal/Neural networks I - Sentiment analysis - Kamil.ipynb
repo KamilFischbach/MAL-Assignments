{
 "cells": [
  {
   "cell_type": "code",
   "execution_count": 2,
   "id": "63d4df5f",
   "metadata": {},
   "outputs": [],
   "source": [
    "%matplotlib inline\n",
    "\n",
    "import tensorflow as tf\n",
    "\n",
    "from sklearn.datasets import load_digits\n",
    "from sklearn.model_selection import train_test_split\n",
    "\n",
    "import matplotlib.pyplot as plt\n",
    "\n",
    "from tensorflow.keras.models import Sequential\n",
    "from tensorflow.keras.layers import Dense\n",
    "from tensorflow.keras.utils import to_categorical\n",
    "from tensorflow.keras import optimizers\n",
    "from tensorflow.keras.layers import Dropout\n",
    "from tensorflow.keras import regularizers\n",
    "\n",
    "import numpy as np\n",
    "from numpy.random import seed, randint"
   ]
  },
  {
   "cell_type": "markdown",
   "id": "5bc9be56",
   "metadata": {},
   "source": [
    "## Sentiment Analysis"
   ]
  },
  {
   "cell_type": "markdown",
   "id": "818b3b52",
   "metadata": {},
   "source": [
    "In this exercise we use the IMDb-dataset, which we will use to perform a sentiment analysis. The code below assumes that the data is placed in the same folder as this notebook. We see that the reviews are loaded as a pandas dataframe, and print the beginning of the first few reviews."
   ]
  },
  {
   "cell_type": "code",
   "execution_count": 4,
   "id": "67da3bc0",
   "metadata": {},
   "outputs": [
    {
     "name": "stdout",
     "output_type": "stream",
     "text": [
      "<class 'pandas.core.frame.DataFrame'>\n",
      "0        bromwell high is a cartoon comedy . it ran at ...\n",
      "1        story of a man who has unnatural feelings for ...\n",
      "2        homelessness  or houselessness as george carli...\n",
      "3        airport    starts as a brand new luxury    pla...\n",
      "4        brilliant over  acting by lesley ann warren . ...\n",
      "                               ...                        \n",
      "24995    i saw  descent  last night at the stockholm fi...\n",
      "24996    a christmas together actually came before my t...\n",
      "24997    some films that you pick up for a pound turn o...\n",
      "24998    working  class romantic drama from director ma...\n",
      "24999    this is one of the dumbest films  i  ve ever s...\n",
      "Name: 0, Length: 25000, dtype: object\n",
      "   0\n",
      "0  1\n",
      "1  0\n",
      "2  1\n",
      "3  0\n",
      "4  1\n"
     ]
    },
    {
     "data": {
      "text/plain": [
       "Index([0], dtype='int64')"
      ]
     },
     "execution_count": 4,
     "metadata": {},
     "output_type": "execute_result"
    }
   ],
   "source": [
    "import numpy as np\n",
    "import pandas as pd\n",
    "\n",
    "reviews = pd.read_csv('reviews.txt', header=None)\n",
    "labels = pd.read_csv('labels.txt', header=None)\n",
    "Y = (labels=='positive').astype(np.int_)\n",
    "\n",
    "\n",
    "print(type(reviews))\n",
    "print(reviews[0])\n",
    "print(Y.head())\n",
    "reviews.columns"
   ]
  },
  {
   "cell_type": "markdown",
   "id": "9809c8fe",
   "metadata": {},
   "source": [
    "We need to encode the labels as it is necessary for the Neural network to work."
   ]
  },
  {
   "cell_type": "code",
   "execution_count": 7,
   "id": "32b04688",
   "metadata": {},
   "outputs": [
    {
     "name": "stderr",
     "output_type": "stream",
     "text": [
      "c:\\ProgramData\\anaconda3\\Lib\\site-packages\\sklearn\\preprocessing\\_encoders.py:868: FutureWarning: `sparse` was renamed to `sparse_output` in version 1.2 and will be removed in 1.4. `sparse_output` is ignored unless you leave `sparse` to its default value.\n",
      "  warnings.warn(\n"
     ]
    },
    {
     "data": {
      "text/plain": [
       "array([[0., 1.],\n",
       "       [1., 0.],\n",
       "       [0., 1.],\n",
       "       ...,\n",
       "       [1., 0.],\n",
       "       [0., 1.],\n",
       "       [1., 0.]])"
      ]
     },
     "execution_count": 7,
     "metadata": {},
     "output_type": "execute_result"
    }
   ],
   "source": [
    "\n",
    "from sklearn.preprocessing import OneHotEncoder\n",
    "\n",
    "encoder = OneHotEncoder(sparse=False)\n",
    "Y_one_hot = encoder.fit_transform(Y.to_numpy().reshape(-1, 1))\n",
    "Y_one_hot"
   ]
  },
  {
   "cell_type": "markdown",
   "id": "4982b946",
   "metadata": {},
   "source": [
    "**(a)** Split the reviews and labels in test, train and validation sets. The train and validation sets will be used to train your model and tune hyperparameters, the test set will be saved for testing. Use the `CountVectorizer` from `sklearn.feature_extraction.text` to create a Bag-of-Words representation of the reviews. Only use the 10,000 most frequent words (use the `max_features`-parameter of `CountVectorizer`)."
   ]
  },
  {
   "cell_type": "code",
   "execution_count": 7,
   "id": "92a98f3e",
   "metadata": {},
   "outputs": [
    {
     "data": {
      "text/plain": [
       "array(['aaron', 'abandon', 'abandoned', ..., 'zoom', 'zorro', 'zu'],\n",
       "      dtype=object)"
      ]
     },
     "execution_count": 7,
     "metadata": {},
     "output_type": "execute_result"
    }
   ],
   "source": [
    "from sklearn.feature_extraction.text import CountVectorizer \n",
    "from sklearn.model_selection import train_test_split\n",
    "\n",
    "vectorizer = CountVectorizer(max_features=10000)\n",
    "X = vectorizer.fit_transform(reviews[0])\n",
    "\n",
    "X_train, X_test, Y_train, Y_test = train_test_split(X, Y_one_hot, test_size=0.2, random_state=42)\n",
    "\n",
    "vectorizer.get_feature_names_out()"
   ]
  },
  {
   "cell_type": "markdown",
   "id": "ebf07ee9",
   "metadata": {},
   "source": [
    "**(b)** Explore the representation of the reviews. How is a single word represented? How about a whole review?"
   ]
  },
  {
   "cell_type": "code",
   "execution_count": 8,
   "id": "3e2aefc9",
   "metadata": {},
   "outputs": [
    {
     "data": {
      "text/plain": [
       "array([[0, 0, 0, ..., 0, 0, 0],\n",
       "       [0, 0, 0, ..., 0, 0, 0],\n",
       "       [0, 0, 0, ..., 0, 0, 0],\n",
       "       ...,\n",
       "       [0, 0, 0, ..., 0, 0, 0],\n",
       "       [0, 0, 0, ..., 0, 0, 0],\n",
       "       [0, 0, 0, ..., 0, 0, 0]], dtype=int64)"
      ]
     },
     "execution_count": 8,
     "metadata": {},
     "output_type": "execute_result"
    }
   ],
   "source": [
    "X.toarray()"
   ]
  },
  {
   "cell_type": "markdown",
   "id": "2a773a9b",
   "metadata": {},
   "source": [
    "A single word is represented as one number. The whole review is represented as 10 000 features corresponding to the most frequent words in all reviews. When the word is occurring in the one specific review its count is equal to the number of times it occurs in that review. For instance, the feature names which are ['dog', 'cat', 'dolphin'] in a review: 'I love a cat, but dolphin is my favourite. I could marry a dolphin' will result in a matrix: [0, 1, 2]."
   ]
  },
  {
   "cell_type": "markdown",
   "id": "c2638fce",
   "metadata": {},
   "source": [
    "**(c)** Train a neural network with a single hidden layer on the dataset, tuning the relevant hyperparameters to optimize accuracy. "
   ]
  },
  {
   "cell_type": "code",
   "execution_count": 28,
   "id": "3f1bfb52",
   "metadata": {},
   "outputs": [
    {
     "name": "stdout",
     "output_type": "stream",
     "text": [
      "Epoch 1/40\n",
      "\u001b[1m500/500\u001b[0m \u001b[32m━━━━━━━━━━━━━━━━━━━━\u001b[0m\u001b[37m\u001b[0m \u001b[1m4s\u001b[0m 5ms/step - accuracy: 0.6812 - loss: 0.5998 - val_accuracy: 0.7980 - val_loss: 0.4446\n",
      "Epoch 2/40\n",
      "\u001b[1m500/500\u001b[0m \u001b[32m━━━━━━━━━━━━━━━━━━━━\u001b[0m\u001b[37m\u001b[0m \u001b[1m3s\u001b[0m 5ms/step - accuracy: 0.8065 - loss: 0.4382 - val_accuracy: 0.8263 - val_loss: 0.3877\n",
      "Epoch 3/40\n",
      "\u001b[1m500/500\u001b[0m \u001b[32m━━━━━━━━━━━━━━━━━━━━\u001b[0m\u001b[37m\u001b[0m \u001b[1m8s\u001b[0m 15ms/step - accuracy: 0.8404 - loss: 0.3811 - val_accuracy: 0.8445 - val_loss: 0.3556\n",
      "Epoch 4/40\n",
      "\u001b[1m500/500\u001b[0m \u001b[32m━━━━━━━━━━━━━━━━━━━━\u001b[0m\u001b[37m\u001b[0m \u001b[1m7s\u001b[0m 13ms/step - accuracy: 0.8564 - loss: 0.3437 - val_accuracy: 0.8570 - val_loss: 0.3332\n",
      "Epoch 5/40\n",
      "\u001b[1m500/500\u001b[0m \u001b[32m━━━━━━━━━━━━━━━━━━━━\u001b[0m\u001b[37m\u001b[0m \u001b[1m8s\u001b[0m 16ms/step - accuracy: 0.8705 - loss: 0.3158 - val_accuracy: 0.8650 - val_loss: 0.3190\n",
      "Epoch 6/40\n",
      "\u001b[1m500/500\u001b[0m \u001b[32m━━━━━━━━━━━━━━━━━━━━\u001b[0m\u001b[37m\u001b[0m \u001b[1m8s\u001b[0m 11ms/step - accuracy: 0.8790 - loss: 0.2931 - val_accuracy: 0.8683 - val_loss: 0.3111\n",
      "Epoch 7/40\n",
      "\u001b[1m500/500\u001b[0m \u001b[32m━━━━━━━━━━━━━━━━━━━━\u001b[0m\u001b[37m\u001b[0m \u001b[1m10s\u001b[0m 9ms/step - accuracy: 0.8886 - loss: 0.2738 - val_accuracy: 0.8692 - val_loss: 0.3079\n",
      "Epoch 8/40\n",
      "\u001b[1m500/500\u001b[0m \u001b[32m━━━━━━━━━━━━━━━━━━━━\u001b[0m\u001b[37m\u001b[0m \u001b[1m6s\u001b[0m 11ms/step - accuracy: 0.8980 - loss: 0.2565 - val_accuracy: 0.8683 - val_loss: 0.3066\n",
      "Epoch 9/40\n",
      "\u001b[1m500/500\u001b[0m \u001b[32m━━━━━━━━━━━━━━━━━━━━\u001b[0m\u001b[37m\u001b[0m \u001b[1m8s\u001b[0m 16ms/step - accuracy: 0.9046 - loss: 0.2423 - val_accuracy: 0.8660 - val_loss: 0.3072\n",
      "Epoch 10/40\n",
      "\u001b[1m500/500\u001b[0m \u001b[32m━━━━━━━━━━━━━━━━━━━━\u001b[0m\u001b[37m\u001b[0m \u001b[1m8s\u001b[0m 16ms/step - accuracy: 0.9082 - loss: 0.2313 - val_accuracy: 0.8673 - val_loss: 0.3075\n",
      "Epoch 11/40\n",
      "\u001b[1m500/500\u001b[0m \u001b[32m━━━━━━━━━━━━━━━━━━━━\u001b[0m\u001b[37m\u001b[0m \u001b[1m5s\u001b[0m 5ms/step - accuracy: 0.9135 - loss: 0.2210 - val_accuracy: 0.8673 - val_loss: 0.3075\n",
      "Epoch 12/40\n",
      "\u001b[1m500/500\u001b[0m \u001b[32m━━━━━━━━━━━━━━━━━━━━\u001b[0m\u001b[37m\u001b[0m \u001b[1m8s\u001b[0m 15ms/step - accuracy: 0.9187 - loss: 0.2093 - val_accuracy: 0.8702 - val_loss: 0.3071\n",
      "Epoch 13/40\n",
      "\u001b[1m500/500\u001b[0m \u001b[32m━━━━━━━━━━━━━━━━━━━━\u001b[0m\u001b[37m\u001b[0m \u001b[1m6s\u001b[0m 13ms/step - accuracy: 0.9228 - loss: 0.1987 - val_accuracy: 0.8717 - val_loss: 0.3068\n",
      "Epoch 14/40\n",
      "\u001b[1m500/500\u001b[0m \u001b[32m━━━━━━━━━━━━━━━━━━━━\u001b[0m\u001b[37m\u001b[0m \u001b[1m7s\u001b[0m 15ms/step - accuracy: 0.9274 - loss: 0.1895 - val_accuracy: 0.8740 - val_loss: 0.3056\n",
      "Epoch 15/40\n",
      "\u001b[1m500/500\u001b[0m \u001b[32m━━━━━━━━━━━━━━━━━━━━\u001b[0m\u001b[37m\u001b[0m \u001b[1m9s\u001b[0m 17ms/step - accuracy: 0.9316 - loss: 0.1809 - val_accuracy: 0.8760 - val_loss: 0.3048\n",
      "Epoch 16/40\n",
      "\u001b[1m500/500\u001b[0m \u001b[32m━━━━━━━━━━━━━━━━━━━━\u001b[0m\u001b[37m\u001b[0m \u001b[1m4s\u001b[0m 8ms/step - accuracy: 0.9316 - loss: 0.1785 - val_accuracy: 0.8758 - val_loss: 0.3046\n",
      "Epoch 17/40\n",
      "\u001b[1m500/500\u001b[0m \u001b[32m━━━━━━━━━━━━━━━━━━━━\u001b[0m\u001b[37m\u001b[0m \u001b[1m2s\u001b[0m 4ms/step - accuracy: 0.9382 - loss: 0.1668 - val_accuracy: 0.8745 - val_loss: 0.3058\n",
      "Epoch 18/40\n",
      "\u001b[1m500/500\u001b[0m \u001b[32m━━━━━━━━━━━━━━━━━━━━\u001b[0m\u001b[37m\u001b[0m \u001b[1m2s\u001b[0m 4ms/step - accuracy: 0.9375 - loss: 0.1670 - val_accuracy: 0.8765 - val_loss: 0.3058\n",
      "Epoch 19/40\n",
      "\u001b[1m500/500\u001b[0m \u001b[32m━━━━━━━━━━━━━━━━━━━━\u001b[0m\u001b[37m\u001b[0m \u001b[1m2s\u001b[0m 4ms/step - accuracy: 0.9412 - loss: 0.1601 - val_accuracy: 0.8770 - val_loss: 0.3081\n",
      "Epoch 20/40\n",
      "\u001b[1m500/500\u001b[0m \u001b[32m━━━━━━━━━━━━━━━━━━━━\u001b[0m\u001b[37m\u001b[0m \u001b[1m2s\u001b[0m 4ms/step - accuracy: 0.9474 - loss: 0.1506 - val_accuracy: 0.8752 - val_loss: 0.3117\n",
      "Epoch 21/40\n",
      "\u001b[1m500/500\u001b[0m \u001b[32m━━━━━━━━━━━━━━━━━━━━\u001b[0m\u001b[37m\u001b[0m \u001b[1m2s\u001b[0m 4ms/step - accuracy: 0.9545 - loss: 0.1345 - val_accuracy: 0.8745 - val_loss: 0.3151\n",
      "Epoch 22/40\n",
      "\u001b[1m500/500\u001b[0m \u001b[32m━━━━━━━━━━━━━━━━━━━━\u001b[0m\u001b[37m\u001b[0m \u001b[1m2s\u001b[0m 4ms/step - accuracy: 0.9498 - loss: 0.1459 - val_accuracy: 0.8750 - val_loss: 0.3190\n",
      "Epoch 23/40\n",
      "\u001b[1m500/500\u001b[0m \u001b[32m━━━━━━━━━━━━━━━━━━━━\u001b[0m\u001b[37m\u001b[0m \u001b[1m2s\u001b[0m 4ms/step - accuracy: 0.9566 - loss: 0.1323 - val_accuracy: 0.8752 - val_loss: 0.3223\n",
      "Epoch 24/40\n",
      "\u001b[1m500/500\u001b[0m \u001b[32m━━━━━━━━━━━━━━━━━━━━\u001b[0m\u001b[37m\u001b[0m \u001b[1m2s\u001b[0m 4ms/step - accuracy: 0.9588 - loss: 0.1282 - val_accuracy: 0.8742 - val_loss: 0.3270\n",
      "Epoch 25/40\n",
      "\u001b[1m500/500\u001b[0m \u001b[32m━━━━━━━━━━━━━━━━━━━━\u001b[0m\u001b[37m\u001b[0m \u001b[1m2s\u001b[0m 4ms/step - accuracy: 0.9503 - loss: 0.1455 - val_accuracy: 0.8750 - val_loss: 0.3276\n",
      "Epoch 26/40\n",
      "\u001b[1m500/500\u001b[0m \u001b[32m━━━━━━━━━━━━━━━━━━━━\u001b[0m\u001b[37m\u001b[0m \u001b[1m2s\u001b[0m 4ms/step - accuracy: 0.9636 - loss: 0.1197 - val_accuracy: 0.8752 - val_loss: 0.3367\n",
      "Epoch 27/40\n",
      "\u001b[1m500/500\u001b[0m \u001b[32m━━━━━━━━━━━━━━━━━━━━\u001b[0m\u001b[37m\u001b[0m \u001b[1m6s\u001b[0m 11ms/step - accuracy: 0.9668 - loss: 0.1095 - val_accuracy: 0.8727 - val_loss: 0.3392\n",
      "Epoch 28/40\n",
      "\u001b[1m500/500\u001b[0m \u001b[32m━━━━━━━━━━━━━━━━━━━━\u001b[0m\u001b[37m\u001b[0m \u001b[1m6s\u001b[0m 12ms/step - accuracy: 0.9688 - loss: 0.1079 - val_accuracy: 0.8717 - val_loss: 0.3482\n",
      "Epoch 29/40\n",
      "\u001b[1m500/500\u001b[0m \u001b[32m━━━━━━━━━━━━━━━━━━━━\u001b[0m\u001b[37m\u001b[0m \u001b[1m9s\u001b[0m 9ms/step - accuracy: 0.9706 - loss: 0.1017 - val_accuracy: 0.8723 - val_loss: 0.3441\n",
      "Epoch 30/40\n",
      "\u001b[1m500/500\u001b[0m \u001b[32m━━━━━━━━━━━━━━━━━━━━\u001b[0m\u001b[37m\u001b[0m \u001b[1m8s\u001b[0m 14ms/step - accuracy: 0.9725 - loss: 0.0984 - val_accuracy: 0.8712 - val_loss: 0.3466\n",
      "Epoch 31/40\n",
      "\u001b[1m500/500\u001b[0m \u001b[32m━━━━━━━━━━━━━━━━━━━━\u001b[0m\u001b[37m\u001b[0m \u001b[1m9s\u001b[0m 11ms/step - accuracy: 0.9748 - loss: 0.0942 - val_accuracy: 0.8712 - val_loss: 0.3506\n",
      "Epoch 32/40\n",
      "\u001b[1m500/500\u001b[0m \u001b[32m━━━━━━━━━━━━━━━━━━━━\u001b[0m\u001b[37m\u001b[0m \u001b[1m10s\u001b[0m 10ms/step - accuracy: 0.9786 - loss: 0.0831 - val_accuracy: 0.8655 - val_loss: 0.3774\n",
      "Epoch 33/40\n",
      "\u001b[1m500/500\u001b[0m \u001b[32m━━━━━━━━━━━━━━━━━━━━\u001b[0m\u001b[37m\u001b[0m \u001b[1m9s\u001b[0m 18ms/step - accuracy: 0.9786 - loss: 0.0838 - val_accuracy: 0.8695 - val_loss: 0.3613\n",
      "Epoch 34/40\n",
      "\u001b[1m500/500\u001b[0m \u001b[32m━━━━━━━━━━━━━━━━━━━━\u001b[0m\u001b[37m\u001b[0m \u001b[1m3s\u001b[0m 5ms/step - accuracy: 0.9714 - loss: 0.1176 - val_accuracy: 0.8687 - val_loss: 0.3813\n",
      "Epoch 35/40\n",
      "\u001b[1m500/500\u001b[0m \u001b[32m━━━━━━━━━━━━━━━━━━━━\u001b[0m\u001b[37m\u001b[0m \u001b[1m2s\u001b[0m 4ms/step - accuracy: 0.9776 - loss: 0.0888 - val_accuracy: 0.8695 - val_loss: 0.3792\n",
      "Epoch 36/40\n",
      "\u001b[1m500/500\u001b[0m \u001b[32m━━━━━━━━━━━━━━━━━━━━\u001b[0m\u001b[37m\u001b[0m \u001b[1m2s\u001b[0m 4ms/step - accuracy: 0.9831 - loss: 0.0722 - val_accuracy: 0.8687 - val_loss: 0.3787\n",
      "Epoch 37/40\n",
      "\u001b[1m500/500\u001b[0m \u001b[32m━━━━━━━━━━━━━━━━━━━━\u001b[0m\u001b[37m\u001b[0m \u001b[1m2s\u001b[0m 4ms/step - accuracy: 0.9835 - loss: 0.0708 - val_accuracy: 0.8683 - val_loss: 0.3883\n",
      "Epoch 38/40\n",
      "\u001b[1m500/500\u001b[0m \u001b[32m━━━━━━━━━━━━━━━━━━━━\u001b[0m\u001b[37m\u001b[0m \u001b[1m2s\u001b[0m 4ms/step - accuracy: 0.9873 - loss: 0.0604 - val_accuracy: 0.8562 - val_loss: 0.4301\n",
      "Epoch 39/40\n",
      "\u001b[1m500/500\u001b[0m \u001b[32m━━━━━━━━━━━━━━━━━━━━\u001b[0m\u001b[37m\u001b[0m \u001b[1m2s\u001b[0m 4ms/step - accuracy: 0.9887 - loss: 0.0567 - val_accuracy: 0.8572 - val_loss: 0.4319\n",
      "Epoch 40/40\n",
      "\u001b[1m500/500\u001b[0m \u001b[32m━━━━━━━━━━━━━━━━━━━━\u001b[0m\u001b[37m\u001b[0m \u001b[1m2s\u001b[0m 4ms/step - accuracy: 0.9883 - loss: 0.0550 - val_accuracy: 0.8643 - val_loss: 0.4075\n"
     ]
    }
   ],
   "source": [
    "seed(0)\n",
    "tf.random.set_seed(0)\n",
    "\n",
    "num_classes = len(np.unique(Y_train))\n",
    "\n",
    "model = Sequential()\n",
    "model.add(Dense(units = 32, activation='tanh', input_shape=(X_train.shape[1],))) # add a hidden layer\n",
    "model.add(Dense(units=num_classes, activation='softmax'))  # Output layer\n",
    "\n",
    "sgd = optimizers.SGD(learning_rate = 0.01)\n",
    "model.compile(loss = 'categorical_crossentropy', optimizer = sgd, metrics = ['accuracy'])\n",
    "\n",
    "history = model.fit(X_train, Y_train, epochs = 40, verbose = 1, validation_split = 0.2)"
   ]
  },
  {
   "cell_type": "markdown",
   "id": "b22d41d7",
   "metadata": {},
   "source": [
    "40 epochs seems like a lot as it took over 3 minutes to run but with a learning rate of 0.01 it slowly reached 95% accuracy on the train data."
   ]
  },
  {
   "cell_type": "code",
   "execution_count": 29,
   "id": "a3d55763",
   "metadata": {},
   "outputs": [
    {
     "name": "stdout",
     "output_type": "stream",
     "text": [
      "\u001b[1m625/625\u001b[0m \u001b[32m━━━━━━━━━━━━━━━━━━━━\u001b[0m\u001b[37m\u001b[0m \u001b[1m1s\u001b[0m 2ms/step - accuracy: 0.9749 - loss: 0.0763\n",
      "Loss + accuracy on train data: [0.1383526772260666, 0.953249990940094]\n"
     ]
    }
   ],
   "source": [
    "print(\"Loss + accuracy on train data: {}\".format(model.evaluate(X_train, Y_train)))"
   ]
  },
  {
   "cell_type": "code",
   "execution_count": 30,
   "id": "c4392b75",
   "metadata": {},
   "outputs": [
    {
     "data": {
      "image/png": "[encoded data removed]",
      "text/plain": [
       "<Figure size 640x480 with 1 Axes>"
      ]
     },
     "metadata": {},
     "output_type": "display_data"
    }
   ],
   "source": [
    "plt.figure()\n",
    "plt.title(\"Learning curves\")\n",
    "plt.xlabel(\"Epoch\")\n",
    "plt.ylabel(\"Cross entropy loss\")\n",
    "plt.plot(history.history['accuracy'], label = 'train')\n",
    "plt.plot(history.history['val_accuracy'], label = 'valid')\n",
    "plt.legend()\n",
    "plt.show()"
   ]
  },
  {
   "cell_type": "code",
   "execution_count": 35,
   "id": "a8be0c9d",
   "metadata": {},
   "outputs": [
    {
     "name": "stdout",
     "output_type": "stream",
     "text": [
      "Epoch 1/15\n",
      "\u001b[1m500/500\u001b[0m \u001b[32m━━━━━━━━━━━━━━━━━━━━\u001b[0m\u001b[37m\u001b[0m \u001b[1m6s\u001b[0m 8ms/step - accuracy: 0.4974 - loss: 4.3899 - val_accuracy: 0.5017 - val_loss: 4.3044\n",
      "Epoch 2/15\n",
      "\u001b[1m500/500\u001b[0m \u001b[32m━━━━━━━━━━━━━━━━━━━━\u001b[0m\u001b[37m\u001b[0m \u001b[1m3s\u001b[0m 6ms/step - accuracy: 0.4991 - loss: 4.1630 - val_accuracy: 0.5035 - val_loss: 4.2642\n",
      "Epoch 3/15\n",
      "\u001b[1m500/500\u001b[0m \u001b[32m━━━━━━━━━━━━━━━━━━━━\u001b[0m\u001b[37m\u001b[0m \u001b[1m3s\u001b[0m 7ms/step - accuracy: 0.5016 - loss: 4.1436 - val_accuracy: 0.5265 - val_loss: 4.3364\n",
      "Epoch 4/15\n",
      "\u001b[1m500/500\u001b[0m \u001b[32m━━━━━━━━━━━━━━━━━━━━\u001b[0m\u001b[37m\u001b[0m \u001b[1m3s\u001b[0m 5ms/step - accuracy: 0.5157 - loss: 4.1082 - val_accuracy: 0.5170 - val_loss: 4.4202\n",
      "Epoch 5/15\n",
      "\u001b[1m500/500\u001b[0m \u001b[32m━━━━━━━━━━━━━━━━━━━━\u001b[0m\u001b[37m\u001b[0m \u001b[1m3s\u001b[0m 6ms/step - accuracy: 0.5189 - loss: 4.1083 - val_accuracy: 0.5217 - val_loss: 4.4747\n",
      "Epoch 6/15\n",
      "\u001b[1m500/500\u001b[0m \u001b[32m━━━━━━━━━━━━━━━━━━━━\u001b[0m\u001b[37m\u001b[0m \u001b[1m3s\u001b[0m 6ms/step - accuracy: 0.5332 - loss: 4.1174 - val_accuracy: 0.5213 - val_loss: 4.4857\n",
      "Epoch 7/15\n",
      "\u001b[1m500/500\u001b[0m \u001b[32m━━━━━━━━━━━━━━━━━━━━\u001b[0m\u001b[37m\u001b[0m \u001b[1m3s\u001b[0m 6ms/step - accuracy: 0.5429 - loss: 4.1865 - val_accuracy: 0.8625 - val_loss: 6.8746\n",
      "Epoch 8/15\n",
      "\u001b[1m500/500\u001b[0m \u001b[32m━━━━━━━━━━━━━━━━━━━━\u001b[0m\u001b[37m\u001b[0m \u001b[1m3s\u001b[0m 7ms/step - accuracy: 0.6975 - loss: 4.4579 - val_accuracy: 0.6208 - val_loss: 4.4582\n",
      "Epoch 9/15\n",
      "\u001b[1m500/500\u001b[0m \u001b[32m━━━━━━━━━━━━━━━━━━━━\u001b[0m\u001b[37m\u001b[0m \u001b[1m3s\u001b[0m 7ms/step - accuracy: 0.6038 - loss: 6.0122 - val_accuracy: 0.6398 - val_loss: 4.6645\n",
      "Epoch 10/15\n",
      "\u001b[1m500/500\u001b[0m \u001b[32m━━━━━━━━━━━━━━━━━━━━\u001b[0m\u001b[37m\u001b[0m \u001b[1m3s\u001b[0m 6ms/step - accuracy: 0.7029 - loss: 4.1930 - val_accuracy: 0.6768 - val_loss: 4.5153\n",
      "Epoch 11/15\n",
      "\u001b[1m500/500\u001b[0m \u001b[32m━━━━━━━━━━━━━━━━━━━━\u001b[0m\u001b[37m\u001b[0m \u001b[1m3s\u001b[0m 7ms/step - accuracy: 0.6986 - loss: 4.1378 - val_accuracy: 0.7128 - val_loss: 4.6033\n",
      "Epoch 12/15\n",
      "\u001b[1m500/500\u001b[0m \u001b[32m━━━━━━━━━━━━━━━━━━━━\u001b[0m\u001b[37m\u001b[0m \u001b[1m3s\u001b[0m 7ms/step - accuracy: 0.7573 - loss: 3.9660 - val_accuracy: 0.8608 - val_loss: 1.6045\n",
      "Epoch 13/15\n",
      "\u001b[1m500/500\u001b[0m \u001b[32m━━━━━━━━━━━━━━━━━━━━\u001b[0m\u001b[37m\u001b[0m \u001b[1m3s\u001b[0m 7ms/step - accuracy: 0.9354 - loss: 0.5987 - val_accuracy: 0.8758 - val_loss: 1.5021\n",
      "Epoch 14/15\n",
      "\u001b[1m500/500\u001b[0m \u001b[32m━━━━━━━━━━━━━━━━━━━━\u001b[0m\u001b[37m\u001b[0m \u001b[1m4s\u001b[0m 7ms/step - accuracy: 0.9608 - loss: 0.4466 - val_accuracy: 0.8730 - val_loss: 1.4477\n",
      "Epoch 15/15\n",
      "\u001b[1m500/500\u001b[0m \u001b[32m━━━━━━━━━━━━━━━━━━━━\u001b[0m\u001b[37m\u001b[0m \u001b[1m3s\u001b[0m 6ms/step - accuracy: 0.9701 - loss: 0.3030 - val_accuracy: 0.8648 - val_loss: 1.5573\n"
     ]
    }
   ],
   "source": [
    "seed(0)\n",
    "tf.random.set_seed(0)\n",
    "\n",
    "num_classes = len(np.unique(Y_train))\n",
    "\n",
    "model = Sequential() # initialize a neural network\n",
    "model.add(Dense(units = 50, activation='sigmoid', input_shape=(X_train.shape[1],))) # add a hidden layer\n",
    "model.add(Dense(units=num_classes, activation='silu'))  # Output layer\n",
    "# The Swish (or Silu) activation function is a smooth, non-monotonic function that is unbounded above and bounded below.\n",
    "\n",
    "adam = optimizers.Adam(learning_rate = 0.01)\n",
    "model.compile(loss = 'binary_crossentropy', optimizer = adam, metrics = ['accuracy'])\n",
    "#Try different loss functions and different optimizers\n",
    "\n",
    "history = model.fit(X_train, Y_train, epochs = 15, verbose = 1, validation_split = 0.2)"
   ]
  },
  {
   "cell_type": "markdown",
   "id": "1dd0d7dc",
   "metadata": {},
   "source": [
    "Okay interesting, this one did almost the same job as the previous one but in less epochs, so I will go with this one. "
   ]
  },
  {
   "cell_type": "code",
   "execution_count": 36,
   "id": "69309d17",
   "metadata": {},
   "outputs": [
    {
     "name": "stdout",
     "output_type": "stream",
     "text": [
      "\u001b[1m625/625\u001b[0m \u001b[32m━━━━━━━━━━━━━━━━━━━━\u001b[0m\u001b[37m\u001b[0m \u001b[1m1s\u001b[0m 2ms/step - accuracy: 0.9733 - loss: 0.2724\n",
      "Loss + accuracy on train data: [0.5141831636428833, 0.9526000022888184]\n"
     ]
    }
   ],
   "source": [
    "print(\"Loss + accuracy on train data: {}\".format(model.evaluate(X_train, Y_train)))"
   ]
  },
  {
   "cell_type": "markdown",
   "id": "1fd327a6",
   "metadata": {},
   "source": [
    "**(d)** Test your sentiment-classifier on the test set."
   ]
  },
  {
   "cell_type": "code",
   "execution_count": 37,
   "id": "a43f20eb",
   "metadata": {},
   "outputs": [
    {
     "name": "stdout",
     "output_type": "stream",
     "text": [
      "\u001b[1m157/157\u001b[0m \u001b[32m━━━━━━━━━━━━━━━━━━━━\u001b[0m\u001b[37m\u001b[0m \u001b[1m1s\u001b[0m 3ms/step - accuracy: 0.8643 - loss: 1.5914\n",
      "Loss + accuracy on TEST data: [1.574142575263977, 0.8622000217437744]\n"
     ]
    }
   ],
   "source": [
    "print(\"Loss + accuracy on TEST data: {}\".format(model.evaluate(X_test, Y_test)))"
   ]
  },
  {
   "cell_type": "markdown",
   "id": "434431a7",
   "metadata": {},
   "source": [
    "That's not bad, 86 percent is a decent result, but it could be a sign that the model is overfitting slightly."
   ]
  },
  {
   "cell_type": "markdown",
   "id": "fd44ee62",
   "metadata": {},
   "source": [
    "**(e)** Use the classifier to classify a few sentences you write yourselves. "
   ]
  },
  {
   "cell_type": "code",
   "execution_count": 51,
   "id": "a1ef2970",
   "metadata": {},
   "outputs": [
    {
     "name": "stdout",
     "output_type": "stream",
     "text": [
      "\u001b[1m1/1\u001b[0m \u001b[32m━━━━━━━━━━━━━━━━━━━━\u001b[0m\u001b[37m\u001b[0m \u001b[1m0s\u001b[0m 87ms/step\n",
      "Predictions = [0 0 0 0 1 1]\n"
     ]
    }
   ],
   "source": [
    "comments = [\"Honestly, I haven't seen a movie that left me so unsatisfied in a long time.\", # 0 - negative\n",
    "            'Oh my good, this movie was crazy.',  # 1 - positive yet ambigous\n",
    "            'Spending three hours to watch that?', # 0 - negative\n",
    "            'Three hours well spent!',# 1 - positive but also ambiguous \n",
    "            'I really liked this movie, I would highly recommend it to anyone who is into comedy!', # 1 - definitely positive\n",
    "            'The plot is unconventional and unexpected. It is a refreshing act in comparison to what is served to the masses these days.' # 1 - positive but bitter\n",
    "            ] \n",
    "\n",
    "pd_comments =  pd.DataFrame(comments)\n",
    "trans_comments=vectorizer.transform(pd_comments[0])\n",
    "\n",
    "\n",
    "probabilities = np.array(model.predict(trans_comments))\n",
    "predictions = np.argmax(probabilities, axis = 1) #what does the model predict\n",
    "\n",
    "print(\"Predictions = {}\".format(predictions[0:30]))\n"
   ]
  },
  {
   "cell_type": "markdown",
   "id": "2f00b390",
   "metadata": {},
   "source": [
    "It is doing pretty well. Maybe the problem was that I came with the mindset of trying to trick the model by making something sound bad yet making it a positive comment. On the ones that are straightforward it does a good job. Let's try getting few reviews from the internet about Barbie and Oppenheimer."
   ]
  },
  {
   "cell_type": "code",
   "execution_count": 52,
   "id": "382c221c",
   "metadata": {},
   "outputs": [
    {
     "name": "stdout",
     "output_type": "stream",
     "text": [
      "\u001b[1m1/1\u001b[0m \u001b[32m━━━━━━━━━━━━━━━━━━━━\u001b[0m\u001b[37m\u001b[0m \u001b[1m0s\u001b[0m 30ms/step\n",
      "Predictions = [1 0 1 0]\n"
     ]
    }
   ],
   "source": [
    "oppenheimer_barbie = [\"You'll have to have your wits about you and your brain fully switched on watching Oppenheimer as it could easily get away from a nonattentive viewer. This is intelligent filmmaking which shows it's audience great respect. It fires dialogue packed with information at a relentless pace and jumps to very different times in Oppenheimer's life continuously through it's 3 hour runtime. There are visual clues to guide the viewer through these times but again you'll have to get to grips with these quite quickly. This relentlessness helps to express the urgency with which the US attacked it's chase for the atomic bomb before Germany could do the same. An absolute career best performance from (the consistenly brilliant) Cillian Murphy anchors the film. This is a nailed on Oscar performance. In fact the whole cast are fantastic (apart maybe for the sometimes overwrought Emily Blunt performance). RDJ is also particularly brilliant in a return to proper acting after his decade or so of calling it in. The screenplay is dense and layered (I'd say it was a thick as a Bible), cinematography is quite stark and spare for the most part but imbued with rich, lucious colour in moments (especially scenes with Florence Pugh), the score is beautiful at times but mostly anxious and oppressive, adding to the relentless pacing. The 3 hour runtime flies by. All in all I found it an intense, taxing but highly rewarding watch. This is film making at it finest. A really great watch.\",\n",
    "                      \"I really wanted to like this movie but I struggled to stay awake through it. For me it had none of the nuanced beauty of The Imitation Game, but rather a lot of political waffle, which left me sadly caring more about when it was finally going to end, than what happened to any of the characters. I know I'm in the minority here but I also thought that whilst there were some very strong performances, I didn't feel any were really Oscar worthy. I would think that if someone was in to politics and the american post-war fear around communism, then this could be an interesting watch for them. With all the great names attached, Christopher Nolan at the helm, and a lot of media attention, I expected a lot, but was ultimately left thinking; style over substance.\",\n",
    "                      \"As much as it pains me to give a movie called 'Barbie' a 10 out of 10, I have to do so. It is so brilliantly handled and finely crafted, I have to give the filmakers credit. Yes, I am somewhat conservative person and former law enforcement officer. I'm a guy. I like guy things. Hell I even enjoyed the Battleship movie a few years ago (an absolutely ridiculous but fun romp of an action film). But I also like to experience other perspectives. And man oh man does this movie deliver that in spades - pretty much encapsulated everything my wife has tried to convey about her entire career and life experience wrapped up into two hours! The humor, the sets, the acting, and the ability to weave the current narrative into the story was just perfect. I don't agree with some of the points of the movie, but again, that's ok. This movie wasn't designed to give a balanced perspective of men versus women; it is a no-holds-barred unapologetic crazy ride of a rant about the real issues that women have faced since they were 'allowed' to have 'real jobs' and do the same things as men. Give me a well done film that is a blast to watch, that makes you think, and that was done from a place of creativity, passion, and attention to detail, and I'll call it what it is: a 10 out of 10 masterpiece.\",\n",
    "                      \"Margot Robbie and Ryan Gosling are really great in their roles of Barbie and Kent. Gosling is specially hilarious. I expected a funny, cool, deep and entertaining movie, but I was highly disappointed. The movie is so terribly preachy that ends being an embarrassment. We (the audience) have brains, so, please, preach somewhere else. Furthermore, this is a movie to divide, not to unite. And I'm a woman. The script of the movie is horrendous and the direction is plain bad. There are some great actresses that have too little to say, like Emma Mackey, and that's a pity. Overall: a huge disappointment and a missed opportunity. 3/10 (1 point for Margot Robbie, 1 point for Ryan Gosling, and 1 point for the art direction (super tacky and pinky, as Barbie's world).\"]\n",
    "#So I added two reviews for each movie, [1, 0, 1, 0]\n",
    "\n",
    "\n",
    "pd_comments =  pd.DataFrame(oppenheimer_barbie)\n",
    "trans_comments=vectorizer.transform(pd_comments[0])\n",
    "\n",
    "\n",
    "probabilities = np.array(model.predict(trans_comments))\n",
    "predictions = np.argmax(probabilities, axis = 1) #what does the model predict\n",
    "\n",
    "print(\"Predictions = {}\".format(predictions[0:30]))\n"
   ]
  },
  {
   "cell_type": "markdown",
   "id": "50d4099c",
   "metadata": {},
   "source": [
    "On the real data the model doesn't miss! That is so interesting to see, but also something to be aware of as we can predict the people's emotions with a machine learning model and this gives a lot of ground for a malicous usage of such great tools. "
   ]
  }
 ],
 "metadata": {
  "kernelspec": {
   "display_name": "Python 3 (ipykernel)",
   "language": "python",
   "name": "python3"
  },
  "language_info": {
   "codemirror_mode": {
    "name": "ipython",
    "version": 3
   },
   "file_extension": ".py",
   "mimetype": "text/x-python",
   "name": "python",
   "nbconvert_exporter": "python",
   "pygments_lexer": "ipython3",
   "version": "3.11.7"
  }
 },
 "nbformat": 4,
 "nbformat_minor": 5
}
